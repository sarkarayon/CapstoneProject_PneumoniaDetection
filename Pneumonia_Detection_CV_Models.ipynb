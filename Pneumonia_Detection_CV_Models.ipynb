{
 "cells": [
  {
   "cell_type": "markdown",
   "metadata": {},
   "source": [
    "### Problem Statement\n",
    "\n",
    "Pneumonia is an infection in one or both lungs. Bacteria, viruses, and fungi cause it. The infection causes inflammation in the air sacs in your lungs, which are called alveoli.\n",
    "Pneumonia accounts for over 15% of all deaths of children under 5 years old internationally. In 2017,\n",
    "920,000 children under the age of 5 died from the disease. It requires review of a chest radiograph (CXR)\n",
    "by highly trained specialists and confirmation through clinical history, vital signs and laboratory exams.\n",
    "Pneumonia usually manifests as an area or areas of increased opacity on CXR. However, the diagnosis of\n",
    "pneumonia on CXR is complicated because of a number of other conditions in the lungs such as fluid\n",
    "overload (pulmonary edema), bleeding, volume loss (atelectasis or collapse), lung cancer, or post-\n",
    "radiation or surgical changes. Outside of the lungs, fluid in the pleural space (pleural effusion) also\n",
    "appears as increased opacity on CXR. When available, comparison of CXRs of the patient taken at\n",
    "different time points and correlation with clinical symptoms and history are helpful in making the\n",
    "diagnosis.\n",
    "CXRs are the most commonly performed diagnostic imaging study. A number of factors such as\n",
    "positioning of the patient and depth of inspiration can alter the appearance of the CXR, complicating\n",
    "interpretation further. In addition, clinicians are faced with reading high volumes of images every shift.\n",
    "Pneumonia Detection\n",
    "Now to detection Pneumonia we need to detect Inflammation of the lungs. In this project, you’re\n",
    "challenged to build an algorithm to detect a visual signal for pneumonia in medical images. Specifically,\n",
    "your algorithm needs to automatically locate lung opacities on chest radiographs.\n",
    "\n",
    "### Objectives\n",
    "\n",
    "The objective of the project is,\n",
    "- Learn to how to do build an Object Detection Model\n",
    "- Use transfer learning to fine-tune a model.\n",
    "- Learn to\n",
    "- Read different research papers of given domain to obtain the knowledge of advanced models for the given problem."
   ]
  },
  {
   "cell_type": "markdown",
   "metadata": {},
   "source": [
    "#### Import the Libraries"
   ]
  },
  {
   "cell_type": "code",
   "execution_count": 1,
   "metadata": {},
   "outputs": [
    {
     "name": "stdout",
     "output_type": "stream",
     "text": [
      "Requirement already satisfied: segmentation_models in /opt/anaconda3/envs/tensorflow/lib/python3.6/site-packages (1.0.1)\n",
      "Requirement already satisfied: efficientnet==1.0.0 in /opt/anaconda3/envs/tensorflow/lib/python3.6/site-packages (from segmentation_models) (1.0.0)\n",
      "Requirement already satisfied: keras-applications<=1.0.8,>=1.0.7 in /opt/anaconda3/envs/tensorflow/lib/python3.6/site-packages (from segmentation_models) (1.0.8)\n",
      "Requirement already satisfied: image-classifiers==1.0.0 in /opt/anaconda3/envs/tensorflow/lib/python3.6/site-packages (from segmentation_models) (1.0.0)\n",
      "Requirement already satisfied: scikit-image in /opt/anaconda3/envs/tensorflow/lib/python3.6/site-packages (from efficientnet==1.0.0->segmentation_models) (0.17.2)\n",
      "Requirement already satisfied: h5py in /opt/anaconda3/envs/tensorflow/lib/python3.6/site-packages (from keras-applications<=1.0.8,>=1.0.7->segmentation_models) (2.10.0)\n",
      "Requirement already satisfied: numpy>=1.9.1 in /opt/anaconda3/envs/tensorflow/lib/python3.6/site-packages (from keras-applications<=1.0.8,>=1.0.7->segmentation_models) (1.19.1)\n",
      "Requirement already satisfied: networkx>=2.0 in /opt/anaconda3/envs/tensorflow/lib/python3.6/site-packages (from scikit-image->efficientnet==1.0.0->segmentation_models) (2.5)\n",
      "Requirement already satisfied: matplotlib!=3.0.0,>=2.0.0 in /opt/anaconda3/envs/tensorflow/lib/python3.6/site-packages (from scikit-image->efficientnet==1.0.0->segmentation_models) (3.3.1)\n",
      "Requirement already satisfied: PyWavelets>=1.1.1 in /opt/anaconda3/envs/tensorflow/lib/python3.6/site-packages (from scikit-image->efficientnet==1.0.0->segmentation_models) (1.1.1)\n",
      "Requirement already satisfied: scipy>=1.0.1 in /opt/anaconda3/envs/tensorflow/lib/python3.6/site-packages (from scikit-image->efficientnet==1.0.0->segmentation_models) (1.5.2)\n",
      "Requirement already satisfied: imageio>=2.3.0 in /opt/anaconda3/envs/tensorflow/lib/python3.6/site-packages (from scikit-image->efficientnet==1.0.0->segmentation_models) (2.9.0)\n",
      "Requirement already satisfied: tifffile>=2019.7.26 in /opt/anaconda3/envs/tensorflow/lib/python3.6/site-packages (from scikit-image->efficientnet==1.0.0->segmentation_models) (2020.9.3)\n",
      "Requirement already satisfied: pillow!=7.1.0,!=7.1.1,>=4.3.0 in /opt/anaconda3/envs/tensorflow/lib/python3.6/site-packages (from scikit-image->efficientnet==1.0.0->segmentation_models) (7.2.0)\n",
      "Requirement already satisfied: six in /opt/anaconda3/envs/tensorflow/lib/python3.6/site-packages (from h5py->keras-applications<=1.0.8,>=1.0.7->segmentation_models) (1.15.0)\n",
      "Requirement already satisfied: decorator>=4.3.0 in /opt/anaconda3/envs/tensorflow/lib/python3.6/site-packages (from networkx>=2.0->scikit-image->efficientnet==1.0.0->segmentation_models) (4.4.2)\n",
      "Requirement already satisfied: python-dateutil>=2.1 in /opt/anaconda3/envs/tensorflow/lib/python3.6/site-packages (from matplotlib!=3.0.0,>=2.0.0->scikit-image->efficientnet==1.0.0->segmentation_models) (2.8.1)\n",
      "Requirement already satisfied: cycler>=0.10 in /opt/anaconda3/envs/tensorflow/lib/python3.6/site-packages (from matplotlib!=3.0.0,>=2.0.0->scikit-image->efficientnet==1.0.0->segmentation_models) (0.10.0)\n",
      "Requirement already satisfied: certifi>=2020.06.20 in /opt/anaconda3/envs/tensorflow/lib/python3.6/site-packages (from matplotlib!=3.0.0,>=2.0.0->scikit-image->efficientnet==1.0.0->segmentation_models) (2020.6.20)\n",
      "Requirement already satisfied: pyparsing!=2.0.4,!=2.1.2,!=2.1.6,>=2.0.3 in /opt/anaconda3/envs/tensorflow/lib/python3.6/site-packages (from matplotlib!=3.0.0,>=2.0.0->scikit-image->efficientnet==1.0.0->segmentation_models) (2.4.7)\n",
      "Requirement already satisfied: kiwisolver>=1.0.1 in /opt/anaconda3/envs/tensorflow/lib/python3.6/site-packages (from matplotlib!=3.0.0,>=2.0.0->scikit-image->efficientnet==1.0.0->segmentation_models) (1.2.0)\n",
      "Note: you may need to restart the kernel to use updated packages.\n"
     ]
    }
   ],
   "source": [
    "pip install segmentation_models"
   ]
  },
  {
   "cell_type": "code",
   "execution_count": 2,
   "metadata": {},
   "outputs": [
    {
     "name": "stdout",
     "output_type": "stream",
     "text": [
      "Requirement already satisfied: pydot in /opt/anaconda3/envs/tensorflow/lib/python3.6/site-packages (1.4.1)\n",
      "Requirement already satisfied: pyparsing>=2.1.4 in /opt/anaconda3/envs/tensorflow/lib/python3.6/site-packages (from pydot) (2.4.7)\n",
      "Note: you may need to restart the kernel to use updated packages.\n"
     ]
    }
   ],
   "source": [
    "pip install pydot"
   ]
  },
  {
   "cell_type": "code",
   "execution_count": 3,
   "metadata": {},
   "outputs": [
    {
     "name": "stderr",
     "output_type": "stream",
     "text": [
      "Using TensorFlow backend.\n"
     ]
    },
    {
     "name": "stdout",
     "output_type": "stream",
     "text": [
      "Segmentation Models: using `keras` framework.\n"
     ]
    }
   ],
   "source": [
    "import pandas as pd\n",
    "import numpy as np\n",
    "import matplotlib.pyplot as plt\n",
    "import pylab as pl\n",
    "import tensorflow as tf\n",
    "import os\n",
    "import pydicom\n",
    "import cv2\n",
    "from glob import glob\n",
    "\n",
    "from matplotlib.patches import Rectangle\n",
    "import tensorflow as tf\n",
    "from tensorflow.keras.preprocessing.image import ImageDataGenerator\n",
    "from tensorflow.keras.applications.mobilenet import preprocess_input\n",
    "\n",
    "#Mobile Net\n",
    "from tensorflow.keras.applications.mobilenet import MobileNet\n",
    "from tensorflow.keras.layers import Reshape, UpSampling2D, Input, Concatenate, Conv2D,Dense,Activation, BatchNormalization, SpatialDropout2D\n",
    "from tensorflow.keras.models import Model,Sequential\n",
    "import segmentation_models\n",
    "from segmentation_models.losses import bce_jaccard_loss\n",
    "from segmentation_models.metrics import iou_score\n",
    "\n",
    "from tensorflow.keras.models import Model # to join the two models\n",
    "from tensorflow.keras.callbacks import ModelCheckpoint, EarlyStopping, ReduceLROnPlateau\n",
    "from sklearn.model_selection import train_test_split\n",
    "from tensorflow.keras.optimizers import Adam\n",
    "\n",
    "# to define loss\n",
    "from tensorflow.keras.losses import binary_crossentropy\n",
    "from tensorflow.keras.backend import log, epsilon\n",
    "\n",
    "from tensorflow.keras.applications import VGG16\n",
    "from tensorflow.keras.models import Model, Sequential\n",
    "from tensorflow.keras.layers import Input, Dense, Flatten, Dropout, BatchNormalization\n",
    "from tensorflow.keras.layers import Conv2D, SeparableConv2D, MaxPool2D, LeakyReLU, Activation\n",
    "from tensorflow.keras.optimizers import Adam\n",
    "from tensorflow.keras.preprocessing.image import ImageDataGenerator\n",
    "from tensorflow.keras.callbacks import ModelCheckpoint, ReduceLROnPlateau, EarlyStopping\n",
    "from tensorflow.keras.optimizers import Adam,SGD, RMSprop\n",
    "from tensorflow.keras.losses import binary_crossentropy\n",
    "from tqdm import tqdm_notebook\n",
    "from tqdm import tqdm\n",
    "import seaborn as sns\n",
    "import math\n",
    "import random\n",
    "from keras.utils.vis_utils import plot_model\n",
    "from sklearn.utils import resample\n",
    "\n",
    "\n",
    "from sklearn.metrics import roc_auc_score, roc_curve, classification_report, confusion_matrix\n",
    "from tensorflow.keras.callbacks import CSVLogger, ModelCheckpoint, ReduceLROnPlateau\n",
    "from tensorflow.keras.layers import Dense, Dropout, Input, GlobalAveragePooling2D\n",
    "from tensorflow.keras.applications.densenet import preprocess_input\n",
    "from tensorflow.keras.applications import DenseNet121\n",
    "from tensorflow.keras.applications import ResNet50\n",
    "from tensorflow.keras.applications import InceptionV3\n",
    "from tensorflow.keras.applications import DenseNet169\n",
    "from tensorflow.keras.applications import VGG19\n",
    "#from skimage.transform import resize\n",
    "\n",
    "import keras\n",
    "import math\n",
    "random_state = 2020\n",
    "\n",
    "\n",
    "# Ignore the warnings\n",
    "import warnings\n",
    "warnings.filterwarnings(\"ignore\")"
   ]
  },
  {
   "cell_type": "markdown",
   "metadata": {},
   "source": [
    "#### Image Properties Below"
   ]
  },
  {
   "cell_type": "markdown",
   "metadata": {},
   "source": [
    "#### Change to the current project directory"
   ]
  },
  {
   "cell_type": "code",
   "execution_count": 4,
   "metadata": {},
   "outputs": [],
   "source": [
    "os.chdir('/Volumes/Ayon_Drive/GreatLearning/Capstone_Pneumonia/')"
   ]
  },
  {
   "cell_type": "markdown",
   "metadata": {},
   "source": [
    "#### Name of training and test images and bounding box details below"
   ]
  },
  {
   "cell_type": "code",
   "execution_count": 5,
   "metadata": {},
   "outputs": [],
   "source": [
    "DET_CLASS_INFO = 'stage_2_detailed_class_info.csv'\n",
    "TRAIN_BBOX = 'stage_2_train_labels.csv'\n",
    "TRAIN_IMG_DCM = \"stage_2_train_images\"\n",
    "TEST_IMG_DCM = \"stage_2_test_images\"\n",
    "TRAIN_IMG_DIR_JPG = 'JPG_train'\n",
    "TEST_IMG_DIR_JPG = 'JPG_test'"
   ]
  },
  {
   "cell_type": "markdown",
   "metadata": {},
   "source": [
    "### Pre-Processing, Data Visualization, EDA"
   ]
  },
  {
   "cell_type": "markdown",
   "metadata": {},
   "source": [
    "### Exploratory Data Analysis (EDA) Here as a part of EDA, we will:\n",
    "\n",
    "Start with understanding of the data with a brief on train/test labels and respective class info Look at the first five rows of both the csvs (train and test) Identify how are classes and target distributed Check the number of patients with 1, 2, ... bounding boxes Read and extract metadata from dicom files Perform analysis on some of the features from dicom files Check some random images from the training dataset Draw insights from the data at various stages of EDA\n",
    "\n",
    "Reading CSVs Images for the current stage in the stage_2_train_images and stage_2_test_images. Training data: stage_2_train_labels.csv stage_2_detailed_class_info.csv containing detailed information about the positive and negative classes in the training set"
   ]
  },
  {
   "cell_type": "markdown",
   "metadata": {},
   "source": [
    "#### Loading detailed class info file"
   ]
  },
  {
   "cell_type": "code",
   "execution_count": 6,
   "metadata": {},
   "outputs": [],
   "source": [
    "class_df = pd.read_csv(DET_CLASS_INFO)"
   ]
  },
  {
   "cell_type": "code",
   "execution_count": 7,
   "metadata": {},
   "outputs": [
    {
     "name": "stdout",
     "output_type": "stream",
     "text": [
      "\n",
      "Class dataframe has 30227 rows and 2 columns:\n"
     ]
    },
    {
     "data": {
      "text/plain": [
       "(30227, 2)"
      ]
     },
     "execution_count": 7,
     "metadata": {},
     "output_type": "execute_result"
    }
   ],
   "source": [
    "print(\"\\nClass dataframe has 30227 rows and 2 columns:\")\n",
    "class_df.shape"
   ]
  },
  {
   "cell_type": "code",
   "execution_count": 8,
   "metadata": {},
   "outputs": [
    {
     "name": "stdout",
     "output_type": "stream",
     "text": [
      "\n",
      "Class dataframe first 5 rows:\n"
     ]
    },
    {
     "data": {
      "text/html": [
       "<div>\n",
       "<style scoped>\n",
       "    .dataframe tbody tr th:only-of-type {\n",
       "        vertical-align: middle;\n",
       "    }\n",
       "\n",
       "    .dataframe tbody tr th {\n",
       "        vertical-align: top;\n",
       "    }\n",
       "\n",
       "    .dataframe thead th {\n",
       "        text-align: right;\n",
       "    }\n",
       "</style>\n",
       "<table border=\"1\" class=\"dataframe\">\n",
       "  <thead>\n",
       "    <tr style=\"text-align: right;\">\n",
       "      <th></th>\n",
       "      <th>patientId</th>\n",
       "      <th>class</th>\n",
       "    </tr>\n",
       "  </thead>\n",
       "  <tbody>\n",
       "    <tr>\n",
       "      <th>0</th>\n",
       "      <td>0004cfab-14fd-4e49-80ba-63a80b6bddd6</td>\n",
       "      <td>No Lung Opacity / Not Normal</td>\n",
       "    </tr>\n",
       "    <tr>\n",
       "      <th>1</th>\n",
       "      <td>00313ee0-9eaa-42f4-b0ab-c148ed3241cd</td>\n",
       "      <td>No Lung Opacity / Not Normal</td>\n",
       "    </tr>\n",
       "    <tr>\n",
       "      <th>2</th>\n",
       "      <td>00322d4d-1c29-4943-afc9-b6754be640eb</td>\n",
       "      <td>No Lung Opacity / Not Normal</td>\n",
       "    </tr>\n",
       "    <tr>\n",
       "      <th>3</th>\n",
       "      <td>003d8fa0-6bf1-40ed-b54c-ac657f8495c5</td>\n",
       "      <td>Normal</td>\n",
       "    </tr>\n",
       "    <tr>\n",
       "      <th>4</th>\n",
       "      <td>00436515-870c-4b36-a041-de91049b9ab4</td>\n",
       "      <td>Lung Opacity</td>\n",
       "    </tr>\n",
       "  </tbody>\n",
       "</table>\n",
       "</div>"
      ],
      "text/plain": [
       "                              patientId                         class\n",
       "0  0004cfab-14fd-4e49-80ba-63a80b6bddd6  No Lung Opacity / Not Normal\n",
       "1  00313ee0-9eaa-42f4-b0ab-c148ed3241cd  No Lung Opacity / Not Normal\n",
       "2  00322d4d-1c29-4943-afc9-b6754be640eb  No Lung Opacity / Not Normal\n",
       "3  003d8fa0-6bf1-40ed-b54c-ac657f8495c5                        Normal\n",
       "4  00436515-870c-4b36-a041-de91049b9ab4                  Lung Opacity"
      ]
     },
     "execution_count": 8,
     "metadata": {},
     "output_type": "execute_result"
    }
   ],
   "source": [
    "print(\"\\nClass dataframe first 5 rows:\")\n",
    "class_df.head()"
   ]
  },
  {
   "cell_type": "code",
   "execution_count": 9,
   "metadata": {},
   "outputs": [
    {
     "name": "stdout",
     "output_type": "stream",
     "text": [
      "Total No of Patients in Class Info 26684\n"
     ]
    }
   ],
   "source": [
    "print('Total No of Patients in Class Info', class_df['patientId'].value_counts().shape[0])"
   ]
  },
  {
   "cell_type": "code",
   "execution_count": 10,
   "metadata": {},
   "outputs": [
    {
     "name": "stdout",
     "output_type": "stream",
     "text": [
      "Total distinct classes:  ['No Lung Opacity / Not Normal' 'Normal' 'Lung Opacity']\n"
     ]
    }
   ],
   "source": [
    "print('Total distinct classes: ', class_df['class'].unique())"
   ]
  },
  {
   "cell_type": "markdown",
   "metadata": {},
   "source": [
    "#### We see there are 3 classes, Normal, Lung Opacity and No Lung Opacity/Not Normal\n",
    "#### No Lung Opacity/Not Normal are cases that look like opacity but are not. "
   ]
  },
  {
   "cell_type": "markdown",
   "metadata": {},
   "source": [
    "#### Check for duplicates in patient id"
   ]
  },
  {
   "cell_type": "code",
   "execution_count": 11,
   "metadata": {},
   "outputs": [
    {
     "data": {
      "text/plain": [
       "3543"
      ]
     },
     "execution_count": 11,
     "metadata": {},
     "output_type": "execute_result"
    }
   ],
   "source": [
    "##Identify duplicates records in the data\n",
    "dupes = class_df['patientId'].duplicated()\n",
    "sum(dupes)"
   ]
  },
  {
   "cell_type": "markdown",
   "metadata": {},
   "source": [
    "#### 3543 patients have duplicates in class info"
   ]
  },
  {
   "cell_type": "code",
   "execution_count": 12,
   "metadata": {},
   "outputs": [
    {
     "data": {
      "text/plain": [
       "<AxesSubplot:xlabel='class'>"
      ]
     },
     "execution_count": 12,
     "metadata": {},
     "output_type": "execute_result"
    },
    {
     "data": {
      "image/png": "[encoded data removed]",
      "text/plain": [
       "<Figure size 432x288 with 1 Axes>"
      ]
     },
     "metadata": {
      "needs_background": "light"
     },
     "output_type": "display_data"
    }
   ],
   "source": [
    "class_df.groupby('class').size().plot.bar(5, 10, color=['Orange', 'green', 'Indigo'])"
   ]
  },
  {
   "cell_type": "markdown",
   "metadata": {},
   "source": [
    "#### Load CSV file containing training set patientIds and labels (Bounding Boxes)"
   ]
  },
  {
   "cell_type": "code",
   "execution_count": 13,
   "metadata": {},
   "outputs": [],
   "source": [
    "labels_df = pd.read_csv(TRAIN_BBOX)"
   ]
  },
  {
   "cell_type": "code",
   "execution_count": 14,
   "metadata": {},
   "outputs": [
    {
     "name": "stdout",
     "output_type": "stream",
     "text": [
      "\n",
      "Label dataframe first 5 rows:\n"
     ]
    },
    {
     "data": {
      "text/html": [
       "<div>\n",
       "<style scoped>\n",
       "    .dataframe tbody tr th:only-of-type {\n",
       "        vertical-align: middle;\n",
       "    }\n",
       "\n",
       "    .dataframe tbody tr th {\n",
       "        vertical-align: top;\n",
       "    }\n",
       "\n",
       "    .dataframe thead th {\n",
       "        text-align: right;\n",
       "    }\n",
       "</style>\n",
       "<table border=\"1\" class=\"dataframe\">\n",
       "  <thead>\n",
       "    <tr style=\"text-align: right;\">\n",
       "      <th></th>\n",
       "      <th>patientId</th>\n",
       "      <th>x</th>\n",
       "      <th>y</th>\n",
       "      <th>width</th>\n",
       "      <th>height</th>\n",
       "      <th>Target</th>\n",
       "    </tr>\n",
       "  </thead>\n",
       "  <tbody>\n",
       "    <tr>\n",
       "      <th>0</th>\n",
       "      <td>0004cfab-14fd-4e49-80ba-63a80b6bddd6</td>\n",
       "      <td>NaN</td>\n",
       "      <td>NaN</td>\n",
       "      <td>NaN</td>\n",
       "      <td>NaN</td>\n",
       "      <td>0</td>\n",
       "    </tr>\n",
       "    <tr>\n",
       "      <th>1</th>\n",
       "      <td>00313ee0-9eaa-42f4-b0ab-c148ed3241cd</td>\n",
       "      <td>NaN</td>\n",
       "      <td>NaN</td>\n",
       "      <td>NaN</td>\n",
       "      <td>NaN</td>\n",
       "      <td>0</td>\n",
       "    </tr>\n",
       "    <tr>\n",
       "      <th>2</th>\n",
       "      <td>00322d4d-1c29-4943-afc9-b6754be640eb</td>\n",
       "      <td>NaN</td>\n",
       "      <td>NaN</td>\n",
       "      <td>NaN</td>\n",
       "      <td>NaN</td>\n",
       "      <td>0</td>\n",
       "    </tr>\n",
       "    <tr>\n",
       "      <th>3</th>\n",
       "      <td>003d8fa0-6bf1-40ed-b54c-ac657f8495c5</td>\n",
       "      <td>NaN</td>\n",
       "      <td>NaN</td>\n",
       "      <td>NaN</td>\n",
       "      <td>NaN</td>\n",
       "      <td>0</td>\n",
       "    </tr>\n",
       "    <tr>\n",
       "      <th>4</th>\n",
       "      <td>00436515-870c-4b36-a041-de91049b9ab4</td>\n",
       "      <td>264.0</td>\n",
       "      <td>152.0</td>\n",
       "      <td>213.0</td>\n",
       "      <td>379.0</td>\n",
       "      <td>1</td>\n",
       "    </tr>\n",
       "  </tbody>\n",
       "</table>\n",
       "</div>"
      ],
      "text/plain": [
       "                              patientId      x      y  width  height  Target\n",
       "0  0004cfab-14fd-4e49-80ba-63a80b6bddd6    NaN    NaN    NaN     NaN       0\n",
       "1  00313ee0-9eaa-42f4-b0ab-c148ed3241cd    NaN    NaN    NaN     NaN       0\n",
       "2  00322d4d-1c29-4943-afc9-b6754be640eb    NaN    NaN    NaN     NaN       0\n",
       "3  003d8fa0-6bf1-40ed-b54c-ac657f8495c5    NaN    NaN    NaN     NaN       0\n",
       "4  00436515-870c-4b36-a041-de91049b9ab4  264.0  152.0  213.0   379.0       1"
      ]
     },
     "execution_count": 14,
     "metadata": {},
     "output_type": "execute_result"
    }
   ],
   "source": [
    "print(\"\\nLabel dataframe first 5 rows:\")\n",
    "labels_df.head()"
   ]
  },
  {
   "cell_type": "markdown",
   "metadata": {},
   "source": [
    "#### We see patient ids, and bounding box is present in the dataset. 0 means No Pneumonia, 1 means Pneumonia\n",
    "#### Bounding Box is not present when the patient doesnot have pneumonia, however 0 can mean No Lung Opacity/Not Normal¶"
   ]
  },
  {
   "cell_type": "code",
   "execution_count": 15,
   "metadata": {},
   "outputs": [
    {
     "name": "stdout",
     "output_type": "stream",
     "text": [
      "Train Labels dataframe has 30227 rows and 6 columns\n"
     ]
    }
   ],
   "source": [
    "print(f'Train Labels dataframe has {labels_df.shape[0]} rows and {labels_df.shape[1]} columns')"
   ]
  },
  {
   "cell_type": "markdown",
   "metadata": {},
   "source": [
    "#### Converting Not a number to 0"
   ]
  },
  {
   "cell_type": "code",
   "execution_count": 16,
   "metadata": {},
   "outputs": [],
   "source": [
    "labels_df['x'] = labels_df['x'].replace(np.nan, 0)\n",
    "labels_df['y'] = labels_df['y'].replace(np.nan, 0)\n",
    "labels_df['width'] = labels_df['width'].replace(np.nan, 0)\n",
    "labels_df['height'] = labels_df['height'].replace(np.nan, 0)"
   ]
  },
  {
   "cell_type": "code",
   "execution_count": 17,
   "metadata": {},
   "outputs": [
    {
     "name": "stdout",
     "output_type": "stream",
     "text": [
      "\n",
      "Updated data samples:\n"
     ]
    },
    {
     "data": {
      "text/html": [
       "<div>\n",
       "<style scoped>\n",
       "    .dataframe tbody tr th:only-of-type {\n",
       "        vertical-align: middle;\n",
       "    }\n",
       "\n",
       "    .dataframe tbody tr th {\n",
       "        vertical-align: top;\n",
       "    }\n",
       "\n",
       "    .dataframe thead th {\n",
       "        text-align: right;\n",
       "    }\n",
       "</style>\n",
       "<table border=\"1\" class=\"dataframe\">\n",
       "  <thead>\n",
       "    <tr style=\"text-align: right;\">\n",
       "      <th></th>\n",
       "      <th>patientId</th>\n",
       "      <th>x</th>\n",
       "      <th>y</th>\n",
       "      <th>width</th>\n",
       "      <th>height</th>\n",
       "      <th>Target</th>\n",
       "    </tr>\n",
       "  </thead>\n",
       "  <tbody>\n",
       "    <tr>\n",
       "      <th>0</th>\n",
       "      <td>0004cfab-14fd-4e49-80ba-63a80b6bddd6</td>\n",
       "      <td>0.0</td>\n",
       "      <td>0.0</td>\n",
       "      <td>0.0</td>\n",
       "      <td>0.0</td>\n",
       "      <td>0</td>\n",
       "    </tr>\n",
       "    <tr>\n",
       "      <th>1</th>\n",
       "      <td>00313ee0-9eaa-42f4-b0ab-c148ed3241cd</td>\n",
       "      <td>0.0</td>\n",
       "      <td>0.0</td>\n",
       "      <td>0.0</td>\n",
       "      <td>0.0</td>\n",
       "      <td>0</td>\n",
       "    </tr>\n",
       "    <tr>\n",
       "      <th>2</th>\n",
       "      <td>00322d4d-1c29-4943-afc9-b6754be640eb</td>\n",
       "      <td>0.0</td>\n",
       "      <td>0.0</td>\n",
       "      <td>0.0</td>\n",
       "      <td>0.0</td>\n",
       "      <td>0</td>\n",
       "    </tr>\n",
       "    <tr>\n",
       "      <th>3</th>\n",
       "      <td>003d8fa0-6bf1-40ed-b54c-ac657f8495c5</td>\n",
       "      <td>0.0</td>\n",
       "      <td>0.0</td>\n",
       "      <td>0.0</td>\n",
       "      <td>0.0</td>\n",
       "      <td>0</td>\n",
       "    </tr>\n",
       "    <tr>\n",
       "      <th>4</th>\n",
       "      <td>00436515-870c-4b36-a041-de91049b9ab4</td>\n",
       "      <td>264.0</td>\n",
       "      <td>152.0</td>\n",
       "      <td>213.0</td>\n",
       "      <td>379.0</td>\n",
       "      <td>1</td>\n",
       "    </tr>\n",
       "  </tbody>\n",
       "</table>\n",
       "</div>"
      ],
      "text/plain": [
       "                              patientId      x      y  width  height  Target\n",
       "0  0004cfab-14fd-4e49-80ba-63a80b6bddd6    0.0    0.0    0.0     0.0       0\n",
       "1  00313ee0-9eaa-42f4-b0ab-c148ed3241cd    0.0    0.0    0.0     0.0       0\n",
       "2  00322d4d-1c29-4943-afc9-b6754be640eb    0.0    0.0    0.0     0.0       0\n",
       "3  003d8fa0-6bf1-40ed-b54c-ac657f8495c5    0.0    0.0    0.0     0.0       0\n",
       "4  00436515-870c-4b36-a041-de91049b9ab4  264.0  152.0  213.0   379.0       1"
      ]
     },
     "execution_count": 17,
     "metadata": {},
     "output_type": "execute_result"
    }
   ],
   "source": [
    "print(\"\\nUpdated data samples:\")\n",
    "labels_df.head()"
   ]
  },
  {
   "cell_type": "markdown",
   "metadata": {},
   "source": [
    "#### There are 30,227 patient ids"
   ]
  },
  {
   "cell_type": "markdown",
   "metadata": {},
   "source": [
    "#### Checking the dataset information"
   ]
  },
  {
   "cell_type": "code",
   "execution_count": 18,
   "metadata": {},
   "outputs": [
    {
     "name": "stdout",
     "output_type": "stream",
     "text": [
      "<class 'pandas.core.frame.DataFrame'>\n",
      "RangeIndex: 30227 entries, 0 to 30226\n",
      "Data columns (total 6 columns):\n",
      " #   Column     Non-Null Count  Dtype  \n",
      "---  ------     --------------  -----  \n",
      " 0   patientId  30227 non-null  object \n",
      " 1   x          30227 non-null  float64\n",
      " 2   y          30227 non-null  float64\n",
      " 3   width      30227 non-null  float64\n",
      " 4   height     30227 non-null  float64\n",
      " 5   Target     30227 non-null  int64  \n",
      "dtypes: float64(4), int64(1), object(1)\n",
      "memory usage: 1.4+ MB\n"
     ]
    }
   ],
   "source": [
    "labels_df.info()"
   ]
  },
  {
   "cell_type": "code",
   "execution_count": 19,
   "metadata": {},
   "outputs": [
    {
     "data": {
      "text/html": [
       "<div>\n",
       "<style scoped>\n",
       "    .dataframe tbody tr th:only-of-type {\n",
       "        vertical-align: middle;\n",
       "    }\n",
       "\n",
       "    .dataframe tbody tr th {\n",
       "        vertical-align: top;\n",
       "    }\n",
       "\n",
       "    .dataframe thead th {\n",
       "        text-align: right;\n",
       "    }\n",
       "</style>\n",
       "<table border=\"1\" class=\"dataframe\">\n",
       "  <thead>\n",
       "    <tr style=\"text-align: right;\">\n",
       "      <th></th>\n",
       "      <th>x</th>\n",
       "      <th>y</th>\n",
       "      <th>width</th>\n",
       "      <th>height</th>\n",
       "      <th>Target</th>\n",
       "    </tr>\n",
       "  </thead>\n",
       "  <tbody>\n",
       "    <tr>\n",
       "      <th>count</th>\n",
       "      <td>30227.000000</td>\n",
       "      <td>30227.000000</td>\n",
       "      <td>30227.000000</td>\n",
       "      <td>30227.000000</td>\n",
       "      <td>30227.000000</td>\n",
       "    </tr>\n",
       "    <tr>\n",
       "      <th>mean</th>\n",
       "      <td>124.561683</td>\n",
       "      <td>115.960962</td>\n",
       "      <td>69.060575</td>\n",
       "      <td>104.084825</td>\n",
       "      <td>0.316108</td>\n",
       "    </tr>\n",
       "    <tr>\n",
       "      <th>std</th>\n",
       "      <td>216.326397</td>\n",
       "      <td>190.012883</td>\n",
       "      <td>106.910496</td>\n",
       "      <td>176.932152</td>\n",
       "      <td>0.464963</td>\n",
       "    </tr>\n",
       "    <tr>\n",
       "      <th>min</th>\n",
       "      <td>0.000000</td>\n",
       "      <td>0.000000</td>\n",
       "      <td>0.000000</td>\n",
       "      <td>0.000000</td>\n",
       "      <td>0.000000</td>\n",
       "    </tr>\n",
       "    <tr>\n",
       "      <th>25%</th>\n",
       "      <td>0.000000</td>\n",
       "      <td>0.000000</td>\n",
       "      <td>0.000000</td>\n",
       "      <td>0.000000</td>\n",
       "      <td>0.000000</td>\n",
       "    </tr>\n",
       "    <tr>\n",
       "      <th>50%</th>\n",
       "      <td>0.000000</td>\n",
       "      <td>0.000000</td>\n",
       "      <td>0.000000</td>\n",
       "      <td>0.000000</td>\n",
       "      <td>0.000000</td>\n",
       "    </tr>\n",
       "    <tr>\n",
       "      <th>75%</th>\n",
       "      <td>193.000000</td>\n",
       "      <td>231.000000</td>\n",
       "      <td>169.000000</td>\n",
       "      <td>188.000000</td>\n",
       "      <td>1.000000</td>\n",
       "    </tr>\n",
       "    <tr>\n",
       "      <th>max</th>\n",
       "      <td>835.000000</td>\n",
       "      <td>881.000000</td>\n",
       "      <td>528.000000</td>\n",
       "      <td>942.000000</td>\n",
       "      <td>1.000000</td>\n",
       "    </tr>\n",
       "  </tbody>\n",
       "</table>\n",
       "</div>"
      ],
      "text/plain": [
       "                  x             y         width        height        Target\n",
       "count  30227.000000  30227.000000  30227.000000  30227.000000  30227.000000\n",
       "mean     124.561683    115.960962     69.060575    104.084825      0.316108\n",
       "std      216.326397    190.012883    106.910496    176.932152      0.464963\n",
       "min        0.000000      0.000000      0.000000      0.000000      0.000000\n",
       "25%        0.000000      0.000000      0.000000      0.000000      0.000000\n",
       "50%        0.000000      0.000000      0.000000      0.000000      0.000000\n",
       "75%      193.000000    231.000000    169.000000    188.000000      1.000000\n",
       "max      835.000000    881.000000    528.000000    942.000000      1.000000"
      ]
     },
     "execution_count": 19,
     "metadata": {},
     "output_type": "execute_result"
    }
   ],
   "source": [
    "labels_df.describe()"
   ]
  },
  {
   "cell_type": "markdown",
   "metadata": {},
   "source": [
    "#### Checking duplicates if it matches with class info file"
   ]
  },
  {
   "cell_type": "code",
   "execution_count": 20,
   "metadata": {},
   "outputs": [
    {
     "data": {
      "text/plain": [
       "3543"
      ]
     },
     "execution_count": 20,
     "metadata": {},
     "output_type": "execute_result"
    }
   ],
   "source": [
    "##Identify duplicates records in the data\n",
    "dupes = labels_df['patientId'].duplicated()\n",
    "sum(dupes)"
   ]
  },
  {
   "cell_type": "markdown",
   "metadata": {},
   "source": [
    "#### 3543 patients have multiple X rays"
   ]
  },
  {
   "cell_type": "markdown",
   "metadata": {},
   "source": [
    "#### Check for missing values"
   ]
  },
  {
   "cell_type": "code",
   "execution_count": 21,
   "metadata": {},
   "outputs": [
    {
     "name": "stdout",
     "output_type": "stream",
     "text": [
      " \n",
      "Count total NaN at each column in the dataset : \n",
      "\n",
      " patientId    0\n",
      "x            0\n",
      "y            0\n",
      "width        0\n",
      "height       0\n",
      "Target       0\n",
      "dtype: int64\n"
     ]
    }
   ],
   "source": [
    "print(\" \\nCount total NaN at each column in the dataset : \\n\\n\", \n",
    "      labels_df.isnull().sum())"
   ]
  },
  {
   "cell_type": "markdown",
   "metadata": {},
   "source": [
    "#### From the above we see there are no null values"
   ]
  },
  {
   "cell_type": "code",
   "execution_count": 22,
   "metadata": {},
   "outputs": [
    {
     "name": "stdout",
     "output_type": "stream",
     "text": [
      "Lets check the distribution of `Target` and `class` column\n",
      "--------------------------------------------------------------------------------\n"
     ]
    },
    {
     "data": {
      "image/png": "[encoded data removed]",
      "text/plain": [
       "<Figure size 720x432 with 2 Axes>"
      ]
     },
     "metadata": {},
     "output_type": "display_data"
    }
   ],
   "source": [
    "print('Lets check the distribution of `Target` and `class` column'); print('--'*40)\n",
    "fig = plt.figure(figsize = (10, 6))\n",
    "ax = fig.add_subplot(121)\n",
    "g = (labels_df['Target'].value_counts()\n",
    "    .plot(kind = 'pie', autopct = '%.0f%%', \n",
    "          labels = ['Negative', 'Pneumonia Evidence'], \n",
    "          colors = ['green', 'red'], \n",
    "          startangle = 90, \n",
    "          title = 'Distribution of Target', fontsize = 12)\n",
    "    .set_ylabel(''))\n",
    "ax = fig.add_subplot(122)\n",
    "g = (class_df['class'].value_counts().sort_index(ascending = False)\n",
    "    .plot(kind = 'pie', autopct = '%.0f%%', \n",
    "          colors = ['green', 'orange', 'red'], \n",
    "          startangle = 90, title = 'Distribution of Class', \n",
    "          fontsize = 12)\n",
    "    .set_ylabel(''))\n",
    "plt.tight_layout()"
   ]
  },
  {
   "cell_type": "markdown",
   "metadata": {},
   "source": [
    "### We will check the number of boxes for each patient"
   ]
  },
  {
   "cell_type": "code",
   "execution_count": 23,
   "metadata": {},
   "outputs": [
    {
     "data": {
      "text/html": [
       "<div>\n",
       "<style scoped>\n",
       "    .dataframe tbody tr th:only-of-type {\n",
       "        vertical-align: middle;\n",
       "    }\n",
       "\n",
       "    .dataframe tbody tr th {\n",
       "        vertical-align: top;\n",
       "    }\n",
       "\n",
       "    .dataframe thead th {\n",
       "        text-align: right;\n",
       "    }\n",
       "</style>\n",
       "<table border=\"1\" class=\"dataframe\">\n",
       "  <thead>\n",
       "    <tr style=\"text-align: right;\">\n",
       "      <th></th>\n",
       "      <th>boxes</th>\n",
       "      <th>patients</th>\n",
       "    </tr>\n",
       "  </thead>\n",
       "  <tbody>\n",
       "    <tr>\n",
       "      <th>0</th>\n",
       "      <td>1</td>\n",
       "      <td>23286</td>\n",
       "    </tr>\n",
       "    <tr>\n",
       "      <th>1</th>\n",
       "      <td>2</td>\n",
       "      <td>3266</td>\n",
       "    </tr>\n",
       "    <tr>\n",
       "      <th>2</th>\n",
       "      <td>3</td>\n",
       "      <td>119</td>\n",
       "    </tr>\n",
       "    <tr>\n",
       "      <th>3</th>\n",
       "      <td>4</td>\n",
       "      <td>13</td>\n",
       "    </tr>\n",
       "  </tbody>\n",
       "</table>\n",
       "</div>"
      ],
      "text/plain": [
       "   boxes  patients\n",
       "0      1     23286\n",
       "1      2      3266\n",
       "2      3       119\n",
       "3      4        13"
      ]
     },
     "execution_count": 23,
     "metadata": {},
     "output_type": "execute_result"
    }
   ],
   "source": [
    "box_patient_df = labels_df.groupby('patientId').size().reset_index(name='boxes')\n",
    "box_patient_df.groupby('boxes').size().reset_index(name='patients')"
   ]
  },
  {
   "cell_type": "code",
   "execution_count": 24,
   "metadata": {},
   "outputs": [
    {
     "name": "stdout",
     "output_type": "stream",
     "text": [
      "Total Cases :  37629\n"
     ]
    }
   ],
   "source": [
    "labels_class_df = pd.merge(labels_df, class_df, how='inner', on='patientId')\n",
    "print('Total Cases : ', labels_class_df.shape[0])"
   ]
  },
  {
   "cell_type": "markdown",
   "metadata": {},
   "source": [
    "#### Since there are duplicate patient ids in both the datasets we see an increase in the number of rows\n",
    "#### Instead of doing inner join lets try to concat both the datasets"
   ]
  },
  {
   "cell_type": "code",
   "execution_count": 25,
   "metadata": {},
   "outputs": [
    {
     "name": "stdout",
     "output_type": "stream",
     "text": [
      "Let's also check whether each patientId has only one type of class\n",
      "--------------------------------------------------------------------------------\n",
      "Yes, each patientId is associated with only 1 class\n",
      "Shape of the dataset after the merge: (30227, 7)\n"
     ]
    }
   ],
   "source": [
    "print('Let\\'s also check whether each patientId has only one type of class'); print('--'*40)\n",
    "print('Yes, each patientId is associated with only {} class'.format(class_df.groupby(['patientId'])['class'].nunique().max()))\n",
    "\n",
    "# Merge the two dataframes\n",
    "train_class_df = pd.concat([labels_df, class_df['class']], axis = 1)\n",
    "print('Shape of the dataset after the merge: {}'.format(train_class_df.shape))"
   ]
  },
  {
   "cell_type": "code",
   "execution_count": 26,
   "metadata": {},
   "outputs": [
    {
     "data": {
      "text/html": [
       "<div>\n",
       "<style scoped>\n",
       "    .dataframe tbody tr th:only-of-type {\n",
       "        vertical-align: middle;\n",
       "    }\n",
       "\n",
       "    .dataframe tbody tr th {\n",
       "        vertical-align: top;\n",
       "    }\n",
       "\n",
       "    .dataframe thead th {\n",
       "        text-align: right;\n",
       "    }\n",
       "</style>\n",
       "<table border=\"1\" class=\"dataframe\">\n",
       "  <thead>\n",
       "    <tr style=\"text-align: right;\">\n",
       "      <th></th>\n",
       "      <th>patientId</th>\n",
       "      <th>x</th>\n",
       "      <th>y</th>\n",
       "      <th>width</th>\n",
       "      <th>height</th>\n",
       "      <th>Target</th>\n",
       "      <th>class</th>\n",
       "    </tr>\n",
       "  </thead>\n",
       "  <tbody>\n",
       "    <tr>\n",
       "      <th>0</th>\n",
       "      <td>0004cfab-14fd-4e49-80ba-63a80b6bddd6</td>\n",
       "      <td>0.0</td>\n",
       "      <td>0.0</td>\n",
       "      <td>0.0</td>\n",
       "      <td>0.0</td>\n",
       "      <td>0</td>\n",
       "      <td>No Lung Opacity / Not Normal</td>\n",
       "    </tr>\n",
       "    <tr>\n",
       "      <th>1</th>\n",
       "      <td>00313ee0-9eaa-42f4-b0ab-c148ed3241cd</td>\n",
       "      <td>0.0</td>\n",
       "      <td>0.0</td>\n",
       "      <td>0.0</td>\n",
       "      <td>0.0</td>\n",
       "      <td>0</td>\n",
       "      <td>No Lung Opacity / Not Normal</td>\n",
       "    </tr>\n",
       "    <tr>\n",
       "      <th>2</th>\n",
       "      <td>00322d4d-1c29-4943-afc9-b6754be640eb</td>\n",
       "      <td>0.0</td>\n",
       "      <td>0.0</td>\n",
       "      <td>0.0</td>\n",
       "      <td>0.0</td>\n",
       "      <td>0</td>\n",
       "      <td>No Lung Opacity / Not Normal</td>\n",
       "    </tr>\n",
       "    <tr>\n",
       "      <th>3</th>\n",
       "      <td>003d8fa0-6bf1-40ed-b54c-ac657f8495c5</td>\n",
       "      <td>0.0</td>\n",
       "      <td>0.0</td>\n",
       "      <td>0.0</td>\n",
       "      <td>0.0</td>\n",
       "      <td>0</td>\n",
       "      <td>Normal</td>\n",
       "    </tr>\n",
       "    <tr>\n",
       "      <th>4</th>\n",
       "      <td>00436515-870c-4b36-a041-de91049b9ab4</td>\n",
       "      <td>264.0</td>\n",
       "      <td>152.0</td>\n",
       "      <td>213.0</td>\n",
       "      <td>379.0</td>\n",
       "      <td>1</td>\n",
       "      <td>Lung Opacity</td>\n",
       "    </tr>\n",
       "  </tbody>\n",
       "</table>\n",
       "</div>"
      ],
      "text/plain": [
       "                              patientId      x      y  width  height  Target  \\\n",
       "0  0004cfab-14fd-4e49-80ba-63a80b6bddd6    0.0    0.0    0.0     0.0       0   \n",
       "1  00313ee0-9eaa-42f4-b0ab-c148ed3241cd    0.0    0.0    0.0     0.0       0   \n",
       "2  00322d4d-1c29-4943-afc9-b6754be640eb    0.0    0.0    0.0     0.0       0   \n",
       "3  003d8fa0-6bf1-40ed-b54c-ac657f8495c5    0.0    0.0    0.0     0.0       0   \n",
       "4  00436515-870c-4b36-a041-de91049b9ab4  264.0  152.0  213.0   379.0       1   \n",
       "\n",
       "                          class  \n",
       "0  No Lung Opacity / Not Normal  \n",
       "1  No Lung Opacity / Not Normal  \n",
       "2  No Lung Opacity / Not Normal  \n",
       "3                        Normal  \n",
       "4                  Lung Opacity  "
      ]
     },
     "execution_count": 26,
     "metadata": {},
     "output_type": "execute_result"
    }
   ],
   "source": [
    "train_class_df.head(5)\n"
   ]
  },
  {
   "cell_type": "markdown",
   "metadata": {},
   "source": [
    "#### Observations from the CSVs Based on analysis above, some of the observations:\n",
    "\n",
    "Training data is having a set of patientIds and bounding boxes. Bounding boxes are defined as follows: x, y, width and height. There are multiple records for patients. Number of duplicates in patientID = 3,543. There is also a binary target column i.e. Target indicating there was evidence of pneumonia or no definitive evidence of pneumonia. Class label contains: No Lung Opacity/Not Normal, Normal and Lung Opacity. Chest examinations with Target = 1 i.e. ones with evidence of Pneumonia are associated with Lung Opacity class. Chest examinations with Target = 0 i.e. those with no definitive effidence of Pneumonia are either of Normal or No Lung Opacity / Not Normal class. About 23,286 patientIds (~87% of them) provided have 1 bounding boxes while 13 patients have 4 bounding boxes!!!!\n",
    "\n",
    "Reading Images Images provided are stored in DICOM (.dcm) format which is an international standard to transmit, store, retrieve, print, process, and display medical imaging information. Digital Imaging and Communications in Medicine (DICOM) makes medical imaging information interoperable. We will make use of pydicom package here to read the images."
   ]
  },
  {
   "cell_type": "code",
   "execution_count": 27,
   "metadata": {},
   "outputs": [],
   "source": [
    "def checkXray(i, dirName):\n",
    "    patientId = train_class_df['patientId'][i]\n",
    "    print(\"Patient Id: \", patientId)\n",
    "    fileName = dirName + \"/\" + patientId\n",
    "    print(\"\\nBounding Box Coordinates, X: \", train_class_df['x'][i])\n",
    "    print(\"\\nBounding Box Coordinates, Y: \", train_class_df['y'][i])\n",
    "    print(\"\\nBounding Box Coordinates, Width: \", train_class_df['width'][i])\n",
    "    print(\"\\nBounding Box Coordinates, Height: \", train_class_df['height'][i])\n",
    "    \n",
    "    patient_file = '%s.dcm' % fileName\n",
    "    patient_data = pydicom.read_file(patient_file)\n",
    "    print(patient_data)\n",
    "    \n",
    "    plt.imshow(patient_data.pixel_array,cmap=pl.cm.gist_gray)"
   ]
  },
  {
   "cell_type": "markdown",
   "metadata": {},
   "source": [
    "#### Let's take a look into an image of a person who has normal lungs"
   ]
  },
  {
   "cell_type": "code",
   "execution_count": 28,
   "metadata": {},
   "outputs": [
    {
     "name": "stdout",
     "output_type": "stream",
     "text": [
      "Patient Id:  003d8fa0-6bf1-40ed-b54c-ac657f8495c5\n",
      "\n",
      "Bounding Box Coordinates, X:  0.0\n",
      "\n",
      "Bounding Box Coordinates, Y:  0.0\n",
      "\n",
      "Bounding Box Coordinates, Width:  0.0\n",
      "\n",
      "Bounding Box Coordinates, Height:  0.0\n",
      "Dataset.file_meta -------------------------------\n",
      "(0002, 0000) File Meta Information Group Length  UL: 200\n",
      "(0002, 0001) File Meta Information Version       OB: b'\\x00\\x01'\n",
      "(0002, 0002) Media Storage SOP Class UID         UI: Secondary Capture Image Storage\n",
      "(0002, 0003) Media Storage SOP Instance UID      UI: 1.2.276.0.7230010.3.1.4.8323329.2293.1517874295.733882\n",
      "(0002, 0010) Transfer Syntax UID                 UI: JPEG Baseline (Process 1)\n",
      "(0002, 0012) Implementation Class UID            UI: 1.2.276.0.7230010.3.0.3.6.0\n",
      "(0002, 0013) Implementation Version Name         SH: 'OFFIS_DCMTK_360'\n",
      "-------------------------------------------------\n",
      "(0008, 0005) Specific Character Set              CS: 'ISO_IR 100'\n",
      "(0008, 0016) SOP Class UID                       UI: Secondary Capture Image Storage\n",
      "(0008, 0018) SOP Instance UID                    UI: 1.2.276.0.7230010.3.1.4.8323329.2293.1517874295.733882\n",
      "(0008, 0020) Study Date                          DA: '19010101'\n",
      "(0008, 0030) Study Time                          TM: '000000.00'\n",
      "(0008, 0050) Accession Number                    SH: ''\n",
      "(0008, 0060) Modality                            CS: 'CR'\n",
      "(0008, 0064) Conversion Type                     CS: 'WSD'\n",
      "(0008, 0090) Referring Physician's Name          PN: ''\n",
      "(0008, 103e) Series Description                  LO: 'view: PA'\n",
      "(0010, 0010) Patient's Name                      PN: '003d8fa0-6bf1-40ed-b54c-ac657f8495c5'\n",
      "(0010, 0020) Patient ID                          LO: '003d8fa0-6bf1-40ed-b54c-ac657f8495c5'\n",
      "(0010, 0030) Patient's Birth Date                DA: ''\n",
      "(0010, 0040) Patient's Sex                       CS: 'M'\n",
      "(0010, 1010) Patient's Age                       AS: '28'\n",
      "(0018, 0015) Body Part Examined                  CS: 'CHEST'\n",
      "(0018, 5101) View Position                       CS: 'PA'\n",
      "(0020, 000d) Study Instance UID                  UI: 1.2.276.0.7230010.3.1.2.8323329.2293.1517874295.733881\n",
      "(0020, 000e) Series Instance UID                 UI: 1.2.276.0.7230010.3.1.3.8323329.2293.1517874295.733880\n",
      "(0020, 0010) Study ID                            SH: ''\n",
      "(0020, 0011) Series Number                       IS: \"1\"\n",
      "(0020, 0013) Instance Number                     IS: \"1\"\n",
      "(0020, 0020) Patient Orientation                 CS: ''\n",
      "(0028, 0002) Samples per Pixel                   US: 1\n",
      "(0028, 0004) Photometric Interpretation          CS: 'MONOCHROME2'\n",
      "(0028, 0010) Rows                                US: 1024\n",
      "(0028, 0011) Columns                             US: 1024\n",
      "(0028, 0030) Pixel Spacing                       DS: [0.14300000000000002, 0.14300000000000002]\n",
      "(0028, 0100) Bits Allocated                      US: 8\n",
      "(0028, 0101) Bits Stored                         US: 8\n",
      "(0028, 0102) High Bit                            US: 7\n",
      "(0028, 0103) Pixel Representation                US: 0\n",
      "(0028, 2110) Lossy Image Compression             CS: '01'\n",
      "(0028, 2114) Lossy Image Compression Method      CS: 'ISO_10918_1'\n",
      "(7fe0, 0010) Pixel Data                          OB: Array of 155284 elements\n"
     ]
    },
    {
     "data": {
      "image/png": "[encoded data removed]",
      "text/plain": [
       "<Figure size 432x288 with 1 Axes>"
      ]
     },
     "metadata": {
      "needs_background": "light"
     },
     "output_type": "display_data"
    }
   ],
   "source": [
    "checkXray(3, TRAIN_IMG_DCM)"
   ]
  },
  {
   "cell_type": "markdown",
   "metadata": {},
   "source": [
    "#### Let's take a look into an image of a person who has lung opacity"
   ]
  },
  {
   "cell_type": "code",
   "execution_count": 29,
   "metadata": {},
   "outputs": [
    {
     "name": "stdout",
     "output_type": "stream",
     "text": [
      "Patient Id:  00436515-870c-4b36-a041-de91049b9ab4\n",
      "\n",
      "Bounding Box Coordinates, X:  264.0\n",
      "\n",
      "Bounding Box Coordinates, Y:  152.0\n",
      "\n",
      "Bounding Box Coordinates, Width:  213.0\n",
      "\n",
      "Bounding Box Coordinates, Height:  379.0\n",
      "Dataset.file_meta -------------------------------\n",
      "(0002, 0000) File Meta Information Group Length  UL: 200\n",
      "(0002, 0001) File Meta Information Version       OB: b'\\x00\\x01'\n",
      "(0002, 0002) Media Storage SOP Class UID         UI: Secondary Capture Image Storage\n",
      "(0002, 0003) Media Storage SOP Instance UID      UI: 1.2.276.0.7230010.3.1.4.8323329.6379.1517874325.469569\n",
      "(0002, 0010) Transfer Syntax UID                 UI: JPEG Baseline (Process 1)\n",
      "(0002, 0012) Implementation Class UID            UI: 1.2.276.0.7230010.3.0.3.6.0\n",
      "(0002, 0013) Implementation Version Name         SH: 'OFFIS_DCMTK_360'\n",
      "-------------------------------------------------\n",
      "(0008, 0005) Specific Character Set              CS: 'ISO_IR 100'\n",
      "(0008, 0016) SOP Class UID                       UI: Secondary Capture Image Storage\n",
      "(0008, 0018) SOP Instance UID                    UI: 1.2.276.0.7230010.3.1.4.8323329.6379.1517874325.469569\n",
      "(0008, 0020) Study Date                          DA: '19010101'\n",
      "(0008, 0030) Study Time                          TM: '000000.00'\n",
      "(0008, 0050) Accession Number                    SH: ''\n",
      "(0008, 0060) Modality                            CS: 'CR'\n",
      "(0008, 0064) Conversion Type                     CS: 'WSD'\n",
      "(0008, 0090) Referring Physician's Name          PN: ''\n",
      "(0008, 103e) Series Description                  LO: 'view: AP'\n",
      "(0010, 0010) Patient's Name                      PN: '00436515-870c-4b36-a041-de91049b9ab4'\n",
      "(0010, 0020) Patient ID                          LO: '00436515-870c-4b36-a041-de91049b9ab4'\n",
      "(0010, 0030) Patient's Birth Date                DA: ''\n",
      "(0010, 0040) Patient's Sex                       CS: 'F'\n",
      "(0010, 1010) Patient's Age                       AS: '32'\n",
      "(0018, 0015) Body Part Examined                  CS: 'CHEST'\n",
      "(0018, 5101) View Position                       CS: 'AP'\n",
      "(0020, 000d) Study Instance UID                  UI: 1.2.276.0.7230010.3.1.2.8323329.6379.1517874325.469568\n",
      "(0020, 000e) Series Instance UID                 UI: 1.2.276.0.7230010.3.1.3.8323329.6379.1517874325.469567\n",
      "(0020, 0010) Study ID                            SH: ''\n",
      "(0020, 0011) Series Number                       IS: \"1\"\n",
      "(0020, 0013) Instance Number                     IS: \"1\"\n",
      "(0020, 0020) Patient Orientation                 CS: ''\n",
      "(0028, 0002) Samples per Pixel                   US: 1\n",
      "(0028, 0004) Photometric Interpretation          CS: 'MONOCHROME2'\n",
      "(0028, 0010) Rows                                US: 1024\n",
      "(0028, 0011) Columns                             US: 1024\n",
      "(0028, 0030) Pixel Spacing                       DS: [0.139, 0.139]\n",
      "(0028, 0100) Bits Allocated                      US: 8\n",
      "(0028, 0101) Bits Stored                         US: 8\n",
      "(0028, 0102) High Bit                            US: 7\n",
      "(0028, 0103) Pixel Representation                US: 0\n",
      "(0028, 2110) Lossy Image Compression             CS: '01'\n",
      "(0028, 2114) Lossy Image Compression Method      CS: 'ISO_10918_1'\n",
      "(7fe0, 0010) Pixel Data                          OB: Array of 119382 elements\n"
     ]
    },
    {
     "data": {
      "image/png": "[encoded data removed]",
      "text/plain": [
       "<Figure size 432x288 with 1 Axes>"
      ]
     },
     "metadata": {
      "needs_background": "light"
     },
     "output_type": "display_data"
    }
   ],
   "source": [
    "checkXray(4, TRAIN_IMG_DCM)"
   ]
  },
  {
   "cell_type": "markdown",
   "metadata": {},
   "source": [
    "#### Let's take a look into an image of a person who has No Lung Opacity/Not Normal¶"
   ]
  },
  {
   "cell_type": "code",
   "execution_count": 30,
   "metadata": {},
   "outputs": [
    {
     "name": "stdout",
     "output_type": "stream",
     "text": [
      "Patient Id:  0004cfab-14fd-4e49-80ba-63a80b6bddd6\n",
      "\n",
      "Bounding Box Coordinates, X:  0.0\n",
      "\n",
      "Bounding Box Coordinates, Y:  0.0\n",
      "\n",
      "Bounding Box Coordinates, Width:  0.0\n",
      "\n",
      "Bounding Box Coordinates, Height:  0.0\n",
      "Dataset.file_meta -------------------------------\n",
      "(0002, 0000) File Meta Information Group Length  UL: 202\n",
      "(0002, 0001) File Meta Information Version       OB: b'\\x00\\x01'\n",
      "(0002, 0002) Media Storage SOP Class UID         UI: Secondary Capture Image Storage\n",
      "(0002, 0003) Media Storage SOP Instance UID      UI: 1.2.276.0.7230010.3.1.4.8323329.28530.1517874485.775526\n",
      "(0002, 0010) Transfer Syntax UID                 UI: JPEG Baseline (Process 1)\n",
      "(0002, 0012) Implementation Class UID            UI: 1.2.276.0.7230010.3.0.3.6.0\n",
      "(0002, 0013) Implementation Version Name         SH: 'OFFIS_DCMTK_360'\n",
      "-------------------------------------------------\n",
      "(0008, 0005) Specific Character Set              CS: 'ISO_IR 100'\n",
      "(0008, 0016) SOP Class UID                       UI: Secondary Capture Image Storage\n",
      "(0008, 0018) SOP Instance UID                    UI: 1.2.276.0.7230010.3.1.4.8323329.28530.1517874485.775526\n",
      "(0008, 0020) Study Date                          DA: '19010101'\n",
      "(0008, 0030) Study Time                          TM: '000000.00'\n",
      "(0008, 0050) Accession Number                    SH: ''\n",
      "(0008, 0060) Modality                            CS: 'CR'\n",
      "(0008, 0064) Conversion Type                     CS: 'WSD'\n",
      "(0008, 0090) Referring Physician's Name          PN: ''\n",
      "(0008, 103e) Series Description                  LO: 'view: PA'\n",
      "(0010, 0010) Patient's Name                      PN: '0004cfab-14fd-4e49-80ba-63a80b6bddd6'\n",
      "(0010, 0020) Patient ID                          LO: '0004cfab-14fd-4e49-80ba-63a80b6bddd6'\n",
      "(0010, 0030) Patient's Birth Date                DA: ''\n",
      "(0010, 0040) Patient's Sex                       CS: 'F'\n",
      "(0010, 1010) Patient's Age                       AS: '51'\n",
      "(0018, 0015) Body Part Examined                  CS: 'CHEST'\n",
      "(0018, 5101) View Position                       CS: 'PA'\n",
      "(0020, 000d) Study Instance UID                  UI: 1.2.276.0.7230010.3.1.2.8323329.28530.1517874485.775525\n",
      "(0020, 000e) Series Instance UID                 UI: 1.2.276.0.7230010.3.1.3.8323329.28530.1517874485.775524\n",
      "(0020, 0010) Study ID                            SH: ''\n",
      "(0020, 0011) Series Number                       IS: \"1\"\n",
      "(0020, 0013) Instance Number                     IS: \"1\"\n",
      "(0020, 0020) Patient Orientation                 CS: ''\n",
      "(0028, 0002) Samples per Pixel                   US: 1\n",
      "(0028, 0004) Photometric Interpretation          CS: 'MONOCHROME2'\n",
      "(0028, 0010) Rows                                US: 1024\n",
      "(0028, 0011) Columns                             US: 1024\n",
      "(0028, 0030) Pixel Spacing                       DS: [0.14300000000000002, 0.14300000000000002]\n",
      "(0028, 0100) Bits Allocated                      US: 8\n",
      "(0028, 0101) Bits Stored                         US: 8\n",
      "(0028, 0102) High Bit                            US: 7\n",
      "(0028, 0103) Pixel Representation                US: 0\n",
      "(0028, 2110) Lossy Image Compression             CS: '01'\n",
      "(0028, 2114) Lossy Image Compression Method      CS: 'ISO_10918_1'\n",
      "(7fe0, 0010) Pixel Data                          OB: Array of 142006 elements\n"
     ]
    },
    {
     "data": {
      "image/png": "[encoded data removed]",
      "text/plain": [
       "<Figure size 432x288 with 1 Axes>"
      ]
     },
     "metadata": {
      "needs_background": "light"
     },
     "output_type": "display_data"
    }
   ],
   "source": [
    "checkXray(0, TRAIN_IMG_DCM)"
   ]
  },
  {
   "cell_type": "code",
   "execution_count": 31,
   "metadata": {},
   "outputs": [],
   "source": [
    "# Helper function to get additional features from dicom images\n",
    "def get_tags(data, path):\n",
    "    images = os.listdir(path)\n",
    "    for _, name in tqdm_notebook(enumerate(images)):\n",
    "        img_path = os.path.join(path, name)\n",
    "        img_data = pydicom.read_file(img_path)\n",
    "        idx = (data['patientId'] == img_data.PatientID)\n",
    "        data.loc[idx,'PatientSex'] = img_data.PatientSex\n",
    "        data.loc[idx,'PatientAge'] = pd.to_numeric(img_data.PatientAge)\n",
    "        data.loc[idx,'BodyPartExamined'] = img_data.BodyPartExamined\n",
    "        data.loc[idx,'ViewPosition'] = img_data.ViewPosition\n",
    "        data.loc[idx,'Modality'] = img_data.Modality"
   ]
  },
  {
   "cell_type": "code",
   "execution_count": 32,
   "metadata": {},
   "outputs": [
    {
     "name": "stdout",
     "output_type": "stream",
     "text": [
      "Read the training images file names and path\n",
      "--------------------------------------------------------------------------------\n",
      "Number of images in the training folder: 26684\n",
      "Columns in the training images dataframe: ['path', 'patientId']\n"
     ]
    }
   ],
   "source": [
    "print('Read the training images file names and path'); print('--'*40)\n",
    "images = pd.DataFrame({'path': glob(os.path.join(TRAIN_IMG_DCM, '*.dcm'))})\n",
    "images['patientId'] = images['path'].map(lambda x: os.path.splitext(os.path.basename(x))[0])\n",
    "print('Number of images in the training folder: {}'.format(images.shape[0]))\n",
    "print('Columns in the training images dataframe: {}'.format(list(images.columns)))\n",
    "assert images.shape[0] == len(list(set(train_class_df['patientId']))), 'Number of training images should be equal to the unique patientIds we have'"
   ]
  },
  {
   "cell_type": "code",
   "execution_count": 33,
   "metadata": {},
   "outputs": [
    {
     "name": "stdout",
     "output_type": "stream",
     "text": [
      "Merge path from the `images` dataframe with `train_class` dataframe\n",
      "--------------------------------------------------------------------------------\n",
      "Shape of the `train_class` dataframe after merge: (30227, 8)\n"
     ]
    }
   ],
   "source": [
    "print('Merge path from the `images` dataframe with `train_class` dataframe'); print('--'*40)\n",
    "train_class_df = train_class_df.merge(images, on = 'patientId', how = 'left')\n",
    "print('Shape of the `train_class` dataframe after merge: {}'.format(train_class_df.shape))"
   ]
  },
  {
   "cell_type": "code",
   "execution_count": 34,
   "metadata": {},
   "outputs": [
    {
     "data": {
      "text/html": [
       "<div>\n",
       "<style scoped>\n",
       "    .dataframe tbody tr th:only-of-type {\n",
       "        vertical-align: middle;\n",
       "    }\n",
       "\n",
       "    .dataframe tbody tr th {\n",
       "        vertical-align: top;\n",
       "    }\n",
       "\n",
       "    .dataframe thead th {\n",
       "        text-align: right;\n",
       "    }\n",
       "</style>\n",
       "<table border=\"1\" class=\"dataframe\">\n",
       "  <thead>\n",
       "    <tr style=\"text-align: right;\">\n",
       "      <th></th>\n",
       "      <th>patientId</th>\n",
       "      <th>x</th>\n",
       "      <th>y</th>\n",
       "      <th>width</th>\n",
       "      <th>height</th>\n",
       "      <th>Target</th>\n",
       "      <th>class</th>\n",
       "      <th>path</th>\n",
       "    </tr>\n",
       "  </thead>\n",
       "  <tbody>\n",
       "    <tr>\n",
       "      <th>0</th>\n",
       "      <td>0004cfab-14fd-4e49-80ba-63a80b6bddd6</td>\n",
       "      <td>0.0</td>\n",
       "      <td>0.0</td>\n",
       "      <td>0.0</td>\n",
       "      <td>0.0</td>\n",
       "      <td>0</td>\n",
       "      <td>No Lung Opacity / Not Normal</td>\n",
       "      <td>stage_2_train_images/0004cfab-14fd-4e49-80ba-6...</td>\n",
       "    </tr>\n",
       "    <tr>\n",
       "      <th>1</th>\n",
       "      <td>00313ee0-9eaa-42f4-b0ab-c148ed3241cd</td>\n",
       "      <td>0.0</td>\n",
       "      <td>0.0</td>\n",
       "      <td>0.0</td>\n",
       "      <td>0.0</td>\n",
       "      <td>0</td>\n",
       "      <td>No Lung Opacity / Not Normal</td>\n",
       "      <td>stage_2_train_images/00313ee0-9eaa-42f4-b0ab-c...</td>\n",
       "    </tr>\n",
       "    <tr>\n",
       "      <th>2</th>\n",
       "      <td>00322d4d-1c29-4943-afc9-b6754be640eb</td>\n",
       "      <td>0.0</td>\n",
       "      <td>0.0</td>\n",
       "      <td>0.0</td>\n",
       "      <td>0.0</td>\n",
       "      <td>0</td>\n",
       "      <td>No Lung Opacity / Not Normal</td>\n",
       "      <td>stage_2_train_images/00322d4d-1c29-4943-afc9-b...</td>\n",
       "    </tr>\n",
       "    <tr>\n",
       "      <th>3</th>\n",
       "      <td>003d8fa0-6bf1-40ed-b54c-ac657f8495c5</td>\n",
       "      <td>0.0</td>\n",
       "      <td>0.0</td>\n",
       "      <td>0.0</td>\n",
       "      <td>0.0</td>\n",
       "      <td>0</td>\n",
       "      <td>Normal</td>\n",
       "      <td>stage_2_train_images/003d8fa0-6bf1-40ed-b54c-a...</td>\n",
       "    </tr>\n",
       "    <tr>\n",
       "      <th>4</th>\n",
       "      <td>00436515-870c-4b36-a041-de91049b9ab4</td>\n",
       "      <td>264.0</td>\n",
       "      <td>152.0</td>\n",
       "      <td>213.0</td>\n",
       "      <td>379.0</td>\n",
       "      <td>1</td>\n",
       "      <td>Lung Opacity</td>\n",
       "      <td>stage_2_train_images/00436515-870c-4b36-a041-d...</td>\n",
       "    </tr>\n",
       "  </tbody>\n",
       "</table>\n",
       "</div>"
      ],
      "text/plain": [
       "                              patientId      x      y  width  height  Target  \\\n",
       "0  0004cfab-14fd-4e49-80ba-63a80b6bddd6    0.0    0.0    0.0     0.0       0   \n",
       "1  00313ee0-9eaa-42f4-b0ab-c148ed3241cd    0.0    0.0    0.0     0.0       0   \n",
       "2  00322d4d-1c29-4943-afc9-b6754be640eb    0.0    0.0    0.0     0.0       0   \n",
       "3  003d8fa0-6bf1-40ed-b54c-ac657f8495c5    0.0    0.0    0.0     0.0       0   \n",
       "4  00436515-870c-4b36-a041-de91049b9ab4  264.0  152.0  213.0   379.0       1   \n",
       "\n",
       "                          class  \\\n",
       "0  No Lung Opacity / Not Normal   \n",
       "1  No Lung Opacity / Not Normal   \n",
       "2  No Lung Opacity / Not Normal   \n",
       "3                        Normal   \n",
       "4                  Lung Opacity   \n",
       "\n",
       "                                                path  \n",
       "0  stage_2_train_images/0004cfab-14fd-4e49-80ba-6...  \n",
       "1  stage_2_train_images/00313ee0-9eaa-42f4-b0ab-c...  \n",
       "2  stage_2_train_images/00322d4d-1c29-4943-afc9-b...  \n",
       "3  stage_2_train_images/003d8fa0-6bf1-40ed-b54c-a...  \n",
       "4  stage_2_train_images/00436515-870c-4b36-a041-d...  "
      ]
     },
     "execution_count": 34,
     "metadata": {},
     "output_type": "execute_result"
    }
   ],
   "source": [
    "train_class_df.head()"
   ]
  },
  {
   "cell_type": "code",
   "execution_count": 35,
   "metadata": {},
   "outputs": [
    {
     "name": "stdout",
     "output_type": "stream",
     "text": [
      "Get features such as ('PatientSex', 'PatientAge', 'BodyPartExamined', 'ViewPosition', 'Modality') from training images\n",
      "File exists..So we have the data\n",
      "Saving the feature engineered dataframe for future use\n",
      "--------------------------------------------------------------------------------\n"
     ]
    }
   ],
   "source": [
    "print('Get features such as {} from training images'.format(('PatientSex', 'PatientAge', 'BodyPartExamined', 'ViewPosition', 'Modality')))\n",
    "if os.path.isfile('train_feature_engineered.pkl') :\n",
    "    print('File exists..So we have the data')\n",
    "else:\n",
    "    get_tags(train_class_df, TRAIN_IMG_DCM)\n",
    "    train_class_df.to_pickle('train_feature_engineered.pkl')\n",
    "\n",
    "print('Saving the feature engineered dataframe for future use'); print('--'*40)\n"
   ]
  },
  {
   "cell_type": "code",
   "execution_count": 36,
   "metadata": {},
   "outputs": [
    {
     "data": {
      "text/plain": [
       "(30227, 13)"
      ]
     },
     "execution_count": 36,
     "metadata": {},
     "output_type": "execute_result"
    }
   ],
   "source": [
    "train_class_df = pd.read_pickle('train_feature_engineered.pkl')\n",
    "train_class_df.shape"
   ]
  },
  {
   "cell_type": "code",
   "execution_count": 37,
   "metadata": {},
   "outputs": [
    {
     "data": {
      "text/html": [
       "<div>\n",
       "<style scoped>\n",
       "    .dataframe tbody tr th:only-of-type {\n",
       "        vertical-align: middle;\n",
       "    }\n",
       "\n",
       "    .dataframe tbody tr th {\n",
       "        vertical-align: top;\n",
       "    }\n",
       "\n",
       "    .dataframe thead th {\n",
       "        text-align: right;\n",
       "    }\n",
       "</style>\n",
       "<table border=\"1\" class=\"dataframe\">\n",
       "  <thead>\n",
       "    <tr style=\"text-align: right;\">\n",
       "      <th></th>\n",
       "      <th>patientId</th>\n",
       "      <th>x</th>\n",
       "      <th>y</th>\n",
       "      <th>width</th>\n",
       "      <th>height</th>\n",
       "      <th>Target</th>\n",
       "      <th>class</th>\n",
       "      <th>path</th>\n",
       "      <th>PatientSex</th>\n",
       "      <th>PatientAge</th>\n",
       "      <th>BodyPartExamined</th>\n",
       "      <th>ViewPosition</th>\n",
       "      <th>Modality</th>\n",
       "    </tr>\n",
       "  </thead>\n",
       "  <tbody>\n",
       "    <tr>\n",
       "      <th>0</th>\n",
       "      <td>0004cfab-14fd-4e49-80ba-63a80b6bddd6</td>\n",
       "      <td>0.0</td>\n",
       "      <td>0.0</td>\n",
       "      <td>0.0</td>\n",
       "      <td>0.0</td>\n",
       "      <td>0</td>\n",
       "      <td>No Lung Opacity / Not Normal</td>\n",
       "      <td>stage_2_train_images/0004cfab-14fd-4e49-80ba-6...</td>\n",
       "      <td>F</td>\n",
       "      <td>51.0</td>\n",
       "      <td>CHEST</td>\n",
       "      <td>PA</td>\n",
       "      <td>CR</td>\n",
       "    </tr>\n",
       "    <tr>\n",
       "      <th>1</th>\n",
       "      <td>00313ee0-9eaa-42f4-b0ab-c148ed3241cd</td>\n",
       "      <td>0.0</td>\n",
       "      <td>0.0</td>\n",
       "      <td>0.0</td>\n",
       "      <td>0.0</td>\n",
       "      <td>0</td>\n",
       "      <td>No Lung Opacity / Not Normal</td>\n",
       "      <td>stage_2_train_images/00313ee0-9eaa-42f4-b0ab-c...</td>\n",
       "      <td>F</td>\n",
       "      <td>48.0</td>\n",
       "      <td>CHEST</td>\n",
       "      <td>PA</td>\n",
       "      <td>CR</td>\n",
       "    </tr>\n",
       "    <tr>\n",
       "      <th>2</th>\n",
       "      <td>00322d4d-1c29-4943-afc9-b6754be640eb</td>\n",
       "      <td>0.0</td>\n",
       "      <td>0.0</td>\n",
       "      <td>0.0</td>\n",
       "      <td>0.0</td>\n",
       "      <td>0</td>\n",
       "      <td>No Lung Opacity / Not Normal</td>\n",
       "      <td>stage_2_train_images/00322d4d-1c29-4943-afc9-b...</td>\n",
       "      <td>M</td>\n",
       "      <td>19.0</td>\n",
       "      <td>CHEST</td>\n",
       "      <td>AP</td>\n",
       "      <td>CR</td>\n",
       "    </tr>\n",
       "    <tr>\n",
       "      <th>3</th>\n",
       "      <td>003d8fa0-6bf1-40ed-b54c-ac657f8495c5</td>\n",
       "      <td>0.0</td>\n",
       "      <td>0.0</td>\n",
       "      <td>0.0</td>\n",
       "      <td>0.0</td>\n",
       "      <td>0</td>\n",
       "      <td>Normal</td>\n",
       "      <td>stage_2_train_images/003d8fa0-6bf1-40ed-b54c-a...</td>\n",
       "      <td>M</td>\n",
       "      <td>28.0</td>\n",
       "      <td>CHEST</td>\n",
       "      <td>PA</td>\n",
       "      <td>CR</td>\n",
       "    </tr>\n",
       "    <tr>\n",
       "      <th>4</th>\n",
       "      <td>00436515-870c-4b36-a041-de91049b9ab4</td>\n",
       "      <td>264.0</td>\n",
       "      <td>152.0</td>\n",
       "      <td>213.0</td>\n",
       "      <td>379.0</td>\n",
       "      <td>1</td>\n",
       "      <td>Lung Opacity</td>\n",
       "      <td>stage_2_train_images/00436515-870c-4b36-a041-d...</td>\n",
       "      <td>F</td>\n",
       "      <td>32.0</td>\n",
       "      <td>CHEST</td>\n",
       "      <td>AP</td>\n",
       "      <td>CR</td>\n",
       "    </tr>\n",
       "  </tbody>\n",
       "</table>\n",
       "</div>"
      ],
      "text/plain": [
       "                              patientId      x      y  width  height  Target  \\\n",
       "0  0004cfab-14fd-4e49-80ba-63a80b6bddd6    0.0    0.0    0.0     0.0       0   \n",
       "1  00313ee0-9eaa-42f4-b0ab-c148ed3241cd    0.0    0.0    0.0     0.0       0   \n",
       "2  00322d4d-1c29-4943-afc9-b6754be640eb    0.0    0.0    0.0     0.0       0   \n",
       "3  003d8fa0-6bf1-40ed-b54c-ac657f8495c5    0.0    0.0    0.0     0.0       0   \n",
       "4  00436515-870c-4b36-a041-de91049b9ab4  264.0  152.0  213.0   379.0       1   \n",
       "\n",
       "                          class  \\\n",
       "0  No Lung Opacity / Not Normal   \n",
       "1  No Lung Opacity / Not Normal   \n",
       "2  No Lung Opacity / Not Normal   \n",
       "3                        Normal   \n",
       "4                  Lung Opacity   \n",
       "\n",
       "                                                path PatientSex  PatientAge  \\\n",
       "0  stage_2_train_images/0004cfab-14fd-4e49-80ba-6...          F        51.0   \n",
       "1  stage_2_train_images/00313ee0-9eaa-42f4-b0ab-c...          F        48.0   \n",
       "2  stage_2_train_images/00322d4d-1c29-4943-afc9-b...          M        19.0   \n",
       "3  stage_2_train_images/003d8fa0-6bf1-40ed-b54c-a...          M        28.0   \n",
       "4  stage_2_train_images/00436515-870c-4b36-a041-d...          F        32.0   \n",
       "\n",
       "  BodyPartExamined ViewPosition Modality  \n",
       "0            CHEST           PA       CR  \n",
       "1            CHEST           PA       CR  \n",
       "2            CHEST           AP       CR  \n",
       "3            CHEST           PA       CR  \n",
       "4            CHEST           AP       CR  "
      ]
     },
     "execution_count": 37,
     "metadata": {},
     "output_type": "execute_result"
    }
   ],
   "source": [
    "train_class_df.head()"
   ]
  },
  {
   "cell_type": "code",
   "execution_count": 38,
   "metadata": {},
   "outputs": [
    {
     "name": "stdout",
     "output_type": "stream",
     "text": [
      "As expected unique in `BodyPartExamined` is: CHEST\n",
      "Unique in `Modality` is: CR\n",
      "--------------------------------------------------------------------------------\n"
     ]
    }
   ],
   "source": [
    "print('As expected unique in `BodyPartExamined` is: {}'.format(train_class_df['BodyPartExamined'].unique()[0]))\n",
    "print('Unique in `Modality` is: {}'.format(train_class_df['Modality'].unique()[0])); print('--'*40)"
   ]
  },
  {
   "cell_type": "code",
   "execution_count": 39,
   "metadata": {},
   "outputs": [
    {
     "name": "stdout",
     "output_type": "stream",
     "text": [
      "Overall the distribution is almost equal for `ViewPosition` but where there's a Pneumonia Evidence, `ViewPosition` is `AP`\n",
      "AP: Anterior/Posterior, PA: Posterior/Anterior\n",
      "--------------------------------------------------------------------------------\n"
     ]
    },
    {
     "data": {
      "image/png": "[encoded data removed]",
      "text/plain": [
       "<Figure size 720x432 with 2 Axes>"
      ]
     },
     "metadata": {},
     "output_type": "display_data"
    }
   ],
   "source": [
    "print('Overall the distribution is almost equal for `ViewPosition` but where there\\'s a Pneumonia Evidence, `ViewPosition` is `AP`')\n",
    "print('AP: Anterior/Posterior, PA: Posterior/Anterior'); print('--'*40)\n",
    "fig = plt.figure(figsize = (10, 6))\n",
    "ax = fig.add_subplot(121)\n",
    "g = (train_class_df['ViewPosition'].value_counts()\n",
    "    .plot(kind = 'pie', autopct = '%.0f%%',  \n",
    "          startangle = 90,\n",
    "          title = 'Distribution of ViewPosition, Overall', \n",
    "          fontsize = 12)\n",
    "    .set_ylabel(''))\n",
    "ax = fig.add_subplot(122)\n",
    "g = (train_class_df.loc[train_class_df['Target'] == 1, 'ViewPosition']\n",
    "     .value_counts().sort_index(ascending = False)\n",
    "    .plot(kind = 'pie', autopct = '%.0f%%', \n",
    "          startangle = 90, counterclock = False, \n",
    "          title = 'Distribution of ViewPosition, Pneumonia Evidence', \n",
    "          fontsize = 12)\n",
    "    .set_ylabel(''))"
   ]
  },
  {
   "cell_type": "code",
   "execution_count": 40,
   "metadata": {},
   "outputs": [
    {
     "name": "stdout",
     "output_type": "stream",
     "text": [
      "Plot x and y centers of bounding boxes\n",
      "--------------------------------------------------------------------------------\n"
     ]
    },
    {
     "data": {
      "image/png": "[encoded data removed]",
      "text/plain": [
       "<Figure size 576x576 with 3 Axes>"
      ]
     },
     "metadata": {
      "needs_background": "light"
     },
     "output_type": "display_data"
    }
   ],
   "source": [
    "print('Plot x and y centers of bounding boxes'); print('--'*40)\n",
    "# Creating a dataframe with columns for center of the rectangles\n",
    "bboxes = train_class_df[train_class_df['Target'] == 1]\n",
    "bboxes['xw'] = bboxes['x'] + bboxes['width'] / 2\n",
    "bboxes['yh'] = bboxes['y'] + bboxes['height'] / 2\n",
    "\n",
    "g = sns.jointplot(x = bboxes['xw'], y = bboxes['yh'], data = bboxes, \n",
    "                  kind = 'hex', alpha = 0.5, size = 8)\n",
    "plt.suptitle('Bounding Boxes Location, Pneumonia Evidence')\n",
    "plt.tight_layout()\n",
    "plt.subplots_adjust(top = 0.95)\n",
    "plt.show()"
   ]
  },
  {
   "cell_type": "code",
   "execution_count": 41,
   "metadata": {},
   "outputs": [],
   "source": [
    "# Helper function to plot bboxes scatter\n",
    "# Reference for this function & plots: https://www.kaggle.com/gpreda/rsna-pneumonia-detection-eda\n",
    "def bboxes_scatter(df1, df2, text1, text2):\n",
    "    fig, (ax1, ax2) = plt.subplots(1, 2, figsize = (13, 8))\n",
    "    fig.subplots_adjust(top = 0.85)\n",
    "    fig.suptitle('Plotting centers of lung opacity\\n{} & {}'.format(text1, text2))\n",
    "    df1.plot.scatter(x = 'xw', y = 'yh', ax = ax1, alpha = 0.8, marker = '.', \n",
    "                   xlim = (0, 1024), ylim = (0, 1024), color = 'green')\n",
    "    ax1.set_title('Centers of Lung Opacity\\n{}'.format(text1))\n",
    "    for i, row in df1.iterrows():\n",
    "        ax1.add_patch(Rectangle(xy = (row['x'], row['y']),\n",
    "                            width = row['width'], height = row['height'], \n",
    "                            alpha = 3.5e-3, color = 'yellow'))\n",
    "    plt.title('Centers of Lung Opacity\\n{}'.format(text2))\n",
    "    df2.plot.scatter(x = 'xw', y = 'yh', ax = ax2, alpha = 0.8, marker = '.',\n",
    "                   color = 'brown',  xlim = (0, 1024), ylim = (0, 1024))\n",
    "    ax2.set_title('Centers of Lung Opacity\\n{}'.format(text2))\n",
    "    for i, row in df2.iterrows():\n",
    "        ax2.add_patch(Rectangle(xy = (row['x'], row['y']),\n",
    "                             width = row['width'], height = row['height'],\n",
    "                             alpha = 3.5e-3, \n",
    "                             color = 'yellow'))\n",
    "    plt.show()"
   ]
  },
  {
   "cell_type": "code",
   "execution_count": 42,
   "metadata": {},
   "outputs": [
    {
     "name": "stdout",
     "output_type": "stream",
     "text": [
      "Exploring the bounding boxes centers for `ViewPositions` for random sample = 1000\n"
     ]
    },
    {
     "data": {
      "image/png": "[encoded data removed]",
      "text/plain": [
       "<Figure size 936x576 with 2 Axes>"
      ]
     },
     "metadata": {
      "needs_background": "light"
     },
     "output_type": "display_data"
    }
   ],
   "source": [
    "print('Exploring the bounding boxes centers for `ViewPositions` for random sample = 1000')\n",
    "\n",
    "df1 = bboxes[bboxes['ViewPosition'] == 'PA'].sample(1000)\n",
    "df2 = bboxes[bboxes['ViewPosition'] == 'AP'].sample(1000)\n",
    "bboxes_scatter(df1, df2, 'View Position = PA', 'View Position = AP')"
   ]
  },
  {
   "cell_type": "markdown",
   "metadata": {},
   "source": [
    "#### Observations: BodyPartExamined & ViewPosition Above we saw,\n",
    "\n",
    "BodyPartExamined is unique for all cases and is CHEST in the training dataset and that was also expected. Unique in Modality is CR i.e. Computer Radiography Overall ViewPosition is almost equally distributed in the training dataset but for cases where Target=1, most of the view position are AP."
   ]
  },
  {
   "cell_type": "code",
   "execution_count": 43,
   "metadata": {},
   "outputs": [
    {
     "name": "stdout",
     "output_type": "stream",
     "text": [
      "Checking outliers in `PatientAge\n",
      "--------------------------------------------------------------------------------\n",
      "Minimum `PatientAge` in the training dataset: 1.0\n",
      "Maximum `PatientAge` in the training dataset: 155.0\n",
      "75th Percentile of `PatientAge` in the training dataset: 59.0\n",
      "`PatientAge` in upper whisker for box plot: 84.0\n",
      "\n"
     ]
    },
    {
     "data": {
      "image/png": "[encoded data removed]",
      "text/plain": [
       "<Figure size 720x432 with 1 Axes>"
      ]
     },
     "metadata": {
      "needs_background": "light"
     },
     "output_type": "display_data"
    }
   ],
   "source": [
    "print('Checking outliers in `PatientAge'); print('--'*40)\n",
    "print('Minimum `PatientAge` in the training dataset: {}'.format(train_class_df['PatientAge'].min()))\n",
    "print('Maximum `PatientAge` in the training dataset: {}'.format(train_class_df['PatientAge'].max()))\n",
    "print('75th Percentile of `PatientAge` in the training dataset: {}'.format(train_class_df['PatientAge'].quantile(0.75)))\n",
    "print('`PatientAge` in upper whisker for box plot: {}'.format(train_class_df['PatientAge'].quantile(0.75) + (train_class_df['PatientAge'].quantile(0.75) - train_class_df['PatientAge'].quantile(0.25))))\n",
    "print()\n",
    "fig = plt.figure(figsize = (10, 6))\n",
    "ax = sns.boxplot(data = train_class_df['PatientAge'], orient = 'h').set_title('Outliers in PatientAge')"
   ]
  },
  {
   "cell_type": "code",
   "execution_count": 44,
   "metadata": {},
   "outputs": [
    {
     "name": "stdout",
     "output_type": "stream",
     "text": [
      "Using pd.clip to set upper threshold of 100 for age and remove outliers\n",
      "--------------------------------------------------------------------------------\n"
     ]
    },
    {
     "data": {
      "text/plain": [
       "count    30227\n",
       "mean        46\n",
       "std         16\n",
       "min          1\n",
       "25%         34\n",
       "50%         49\n",
       "75%         59\n",
       "max        100\n",
       "Name: PatientAge, dtype: int64"
      ]
     },
     "execution_count": 44,
     "metadata": {},
     "output_type": "execute_result"
    }
   ],
   "source": [
    "print('Using pd.clip to set upper threshold of 100 for age and remove outliers'); print('--'*40)\n",
    "train_class_df['PatientAge'] = train_class_df['PatientAge'].clip(train_class_df['PatientAge'].min(), 100)\n",
    "train_class_df['PatientAge'].describe().astype(int)"
   ]
  },
  {
   "cell_type": "code",
   "execution_count": 45,
   "metadata": {},
   "outputs": [
    {
     "name": "stdout",
     "output_type": "stream",
     "text": [
      "Get the distribution of `PatientAge` overall and where Target = 1\n",
      "--------------------------------------------------------------------------------\n"
     ]
    },
    {
     "data": {
      "image/png": "[encoded data removed]",
      "text/plain": [
       "<Figure size 720x432 with 2 Axes>"
      ]
     },
     "metadata": {
      "needs_background": "light"
     },
     "output_type": "display_data"
    }
   ],
   "source": [
    "print('Get the distribution of `PatientAge` overall and where Target = 1'); print('--'*40)\n",
    "fig = plt.figure(figsize = (10, 6))\n",
    "ax = fig.add_subplot(121)\n",
    "g = (sns.distplot(train_class_df['PatientAge'])\n",
    "    .set_title('Distribution of PatientAge, Overall'))\n",
    "ax = fig.add_subplot(122)\n",
    "g = (sns.distplot(train_class_df.loc[train_class_df['Target'] == 1, 'PatientAge'])\n",
    "    .set_title('Distribution of PatientAge, Pneumonia Evidence'))"
   ]
  },
  {
   "cell_type": "markdown",
   "metadata": {},
   "source": [
    "#### Using Binning Method for PatientAge feature\n",
    "\n",
    "We'll make use of a pd.cut which is 'Bin values into discrete intervals'. Use of this method is recommended when need is to segment and sort data values into bins. This function is also useful for going from a continuous variable to a categorical variable. Supports binning into an equal number of bins, or a pre-specified array of bins."
   ]
  },
  {
   "cell_type": "code",
   "execution_count": 46,
   "metadata": {},
   "outputs": [
    {
     "name": "stdout",
     "output_type": "stream",
     "text": [
      "Creating Age Binning field --------------------------------------------------------------------------------\n"
     ]
    },
    {
     "data": {
      "text/plain": [
       "<=75     13318\n",
       "<=50     12157\n",
       "<=26      3972\n",
       "<=100      780\n",
       "Name: AgeBins, dtype: int64"
      ]
     },
     "execution_count": 46,
     "metadata": {},
     "output_type": "execute_result"
    }
   ],
   "source": [
    "print('Creating Age Binning field', '--'*40)\n",
    "train_class_df['AgeBins'] = pd.cut(train_class_df['PatientAge'], bins = 4, precision = 0, labels = ['<=26', '<=50', '<=75', '<=100'])\n",
    "train_class_df['AgeBins'].value_counts()"
   ]
  },
  {
   "cell_type": "code",
   "execution_count": null,
   "metadata": {},
   "outputs": [],
   "source": [
    "print('Value counts of the age bin field created'); print('--'*40)\n",
    "display(pd.concat([train_class_df['AgeBins'].value_counts().sort_index().rename('Counts of Age Bins, Overall'), \n",
    "                   train_class_df.loc[train_class_df['Target'] == 1, 'AgeBins'].value_counts().sort_index().rename('Counts of Age Bins, Target=1')], axis = 1))\n",
    "print()\n",
    "f, (ax1, ax2) = plt.subplots(1, 2, figsize = (10, 6))\n",
    "g = sns.countplot(x = train_class_df['AgeBins'], ax = ax1).set_title('Count Plot of Age Bins, Overall')\n",
    "g = sns.countplot(x = train_class_df.loc[train_class_df['Target'] == 1, 'AgeBins'], ax = ax2).set_title('Count Plot of Age Bins, Pneumonia Evidence')\n",
    "plt.tight_layout()"
   ]
  },
  {
   "cell_type": "code",
   "execution_count": null,
   "metadata": {},
   "outputs": [],
   "source": [
    "print('Exploring the bounding boxes centers for `AgeBins` for random sample = 200')\n",
    "# Creating a dataframe with columns for center of the rectangles\n",
    "bboxes = train_class_df[train_class_df['Target'] == 1]\n",
    "bboxes['xw'] = bboxes['x'] + bboxes['width'] / 2\n",
    "bboxes['yh'] = bboxes['y'] + bboxes['height'] / 2\n",
    "\n",
    "df1 = bboxes[bboxes['AgeBins'] == '<=26'].sample(200)\n",
    "df2 = bboxes[bboxes['AgeBins'] == '<=100'].sample(200)\n",
    "bboxes_scatter(df1, df2, '1 < AgeBins < 26 (Lower Bin)', '76 < AgeBins < 100 (Upper Bin)')\n"
   ]
  },
  {
   "cell_type": "code",
   "execution_count": null,
   "metadata": {},
   "outputs": [],
   "source": [
    "print('Checking distribution of age for those with Pneumonia Evidence, by Gender & Count Plot of Gender'); print('--'*40)\n",
    "display(pd.concat([train_class_df['PatientSex'].value_counts(normalize = True).round(2).sort_values().rename('% Gender, Overall'), \n",
    "                   train_class_df.loc[(train_class_df['Target'] == 1), 'PatientSex']\n",
    "                   .value_counts(normalize = True).round(2).sort_index().rename('% Gender, Target=1')], axis = 1))\n",
    "\n",
    "f, ((ax1, ax2), (ax3, ax4)) = plt.subplots(2, 2, figsize = (10, 10))\n",
    "g = sns.distplot(train_class_df.loc[(train_class_df['Target'] == 1) & (train_class_df['PatientSex'] == 'M'), 'PatientAge'], ax = ax1).set_title('Distribution of Age for Male, Pneumonia Evidence')\n",
    "g = sns.distplot(train_class_df.loc[(train_class_df['Target'] == 1) & (train_class_df['PatientSex'] == 'F'), 'PatientAge'], ax = ax2).set_title('Distribution of Age for Female, Pneumonia Evidence')\n",
    "g = sns.countplot(y = train_class_df['PatientSex'], ax = ax3, palette = 'PuOr').set_title('Count Plot of Gender, Overall')\n",
    "g = sns.countplot(y = train_class_df.loc[(train_class_df['Target'] == 1), 'PatientSex'], ax = ax4, palette = 'PuOr').set_title('Count Plot of Gender, Pneumonia Evidence')\n",
    "plt.tight_layout()"
   ]
  },
  {
   "cell_type": "code",
   "execution_count": null,
   "metadata": {},
   "outputs": [],
   "source": [
    "\n",
    "print('Exploring the bounding boxes centers for `PatientSex` for random sample = 1000')\n",
    "df1 = bboxes[bboxes['PatientSex'] == 'M'].sample(1000)\n",
    "df2 = bboxes[bboxes['PatientSex'] == 'F'].sample(1000)\n",
    "bboxes_scatter(df1, df2, 'PatientSex = M', 'PatientSex = F')"
   ]
  },
  {
   "cell_type": "markdown",
   "metadata": {},
   "source": [
    "\n",
    "#### Observations: PatientAge & PatientSex Above we saw,\n",
    "\n",
    "For PatientAge we saw the distribution for both overall and where there were evidence of Pneumonia. Used binning to check the count of age bins. Count was highest for age group 40-78 both overall and with Pneumonia Evidence. Saw distribution of age for Male and Female with Pneumonia Evidence. Dataset had more Males (57%-58%) than Females (42%-43%). Only PatientAge, PatientSex and ViewPosition are useful features from metadata.\n",
    "\n",
    "Dropping the other features from train_class dataframe and save that as a pickle file"
   ]
  },
  {
   "cell_type": "code",
   "execution_count": null,
   "metadata": {},
   "outputs": [],
   "source": [
    "train_class_df.drop(['BodyPartExamined', 'Modality', 'AgeBins'], inplace = True, axis = 1)\n",
    "train_class_df.to_pickle('train_class_features.pkl')\n",
    "display(train_class_df.shape, train_class_df.head())"
   ]
  },
  {
   "cell_type": "code",
   "execution_count": null,
   "metadata": {},
   "outputs": [],
   "source": [
    "print('Checking sample for different classes')\n",
    "sample1 = train_class_df.loc[train_class_df['class'] == 'Normal'].iloc[0]\n",
    "sample2 = train_class_df.loc[train_class_df['class'] == 'No Lung Opacity / Not Normal'].iloc[0]\n",
    "sample3 = train_class_df.loc[train_class_df['class'] == 'Lung Opacity'].iloc[1]\n",
    "ds1 = pydicom.dcmread(sample1['path'])\n",
    "ds2 = pydicom.dcmread(sample2['path'])\n",
    "ds3 = pydicom.dcmread(sample3['path'])\n",
    "\n",
    "f, ((ax1, ax2, ax3)) = plt.subplots(1, 3, figsize = (15, 8))\n",
    "ax1.imshow(ds1.pixel_array, cmap = plt.cm.bone)\n",
    "ax1.set_title('Class = Normal')\n",
    "ax1.axis('off')\n",
    "ax2.imshow(ds2.pixel_array, cmap = plt.cm.bone)\n",
    "ax2.set_title('Class = No Lung Opacity / Not Normal')\n",
    "ax2.axis('off')\n",
    "ax3.imshow(ds3.pixel_array, cmap = plt.cm.bone)\n",
    "ax3.set_title('Class = Lung Opacity')\n",
    "ax3.axis('off')\n",
    "plt.show()\n"
   ]
  },
  {
   "cell_type": "code",
   "execution_count": null,
   "metadata": {},
   "outputs": [],
   "source": [
    "\n",
    "sample4 = train_class_df.loc[(train_class_df['ViewPosition'] == 'AP')].iloc[0]\n",
    "sample5 = train_class_df.loc[(train_class_df['ViewPosition'] == 'PA')].iloc[0]\n",
    "ds4 = pydicom.dcmread(sample4['path'])\n",
    "ds5 = pydicom.dcmread(sample5['path'])\n",
    "\n",
    "f, ((ax1, ax2)) = plt.subplots(1, 2, figsize = (15, 8))\n",
    "ax1.imshow(ds4.pixel_array, cmap = plt.cm.bone)\n",
    "ax1.set_title('View Position = AP')\n",
    "ax1.axis('off')\n",
    "ax2.imshow(ds5.pixel_array, cmap = plt.cm.bone)\n",
    "ax2.set_title('View Position = PA')\n",
    "ax2.axis('off')\n",
    "plt.show()"
   ]
  },
  {
   "cell_type": "code",
   "execution_count": null,
   "metadata": {},
   "outputs": [],
   "source": [
    "# Helper function to plot the dicom images\n",
    "def plot_dicom_images(data, df, img_path):\n",
    "    img_data = list(data.T.to_dict().values())\n",
    "    f, ax = plt.subplots(3, 3, figsize = (16, 18))\n",
    "    for i, row in enumerate(img_data):\n",
    "        image = row['patientId'] + '.dcm'\n",
    "        path = os.path.join(img_path, image)\n",
    "        data = pydicom.read_file(path)\n",
    "        rows = df[df['patientId'] == row['patientId']]\n",
    "        age = rows.PatientAge.unique().tolist()[0]\n",
    "        sex = data.PatientSex\n",
    "        part = data.BodyPartExamined\n",
    "        vp = data.ViewPosition\n",
    "        modality = data.Modality\n",
    "        data_img = pydicom.dcmread(path)\n",
    "        ax[i//3, i%3].imshow(data_img.pixel_array, cmap = plt.cm.bone)\n",
    "        ax[i//3, i%3].axis('off')\n",
    "        ax[i//3, i%3].set_title('ID: {}\\nAge: {}, Sex: {}, Part: {}, VP: {}, Modality: {}\\nTarget: {}, Class: {}\\nWindow: {}:{}:{}:{}'\\\n",
    "                              .format(row['patientId'], age, sex, part, \n",
    "                                      vp, modality, row['Target'], \n",
    "                                      row['class'], row['x'], \n",
    "                                      row['y'], row['width'],\n",
    "                                      row['height']))\n",
    "        box_data = list(rows.T.to_dict().values())\n",
    "        for j, row in enumerate(box_data):\n",
    "            ax[i//3, i%3].add_patch(Rectangle(xy = (row['x'], row['y']),\n",
    "                      width = row['width'], height = row['height'], \n",
    "                      color = 'blue', alpha = 0.15)) \n",
    "    plt.show()"
   ]
  },
  {
   "cell_type": "code",
   "execution_count": null,
   "metadata": {},
   "outputs": [],
   "source": [
    "# this function is a part of custom module imported earlier (`eda`)\n",
    "plot_dicom_images(data = train_class_df.loc[(train_class_df['Target'] == 1)].sample(9), \n",
    "                  df = train_class_df, img_path = TRAIN_IMG_DCM)"
   ]
  },
  {
   "cell_type": "markdown",
   "metadata": {},
   "source": [
    "### Now we will convert the images from dcm to jpg for faster processing of data"
   ]
  },
  {
   "cell_type": "code",
   "execution_count": null,
   "metadata": {},
   "outputs": [],
   "source": [
    "def convertImage(folder_path, jpg_folder_path):\n",
    "    if not os.path.exists(jpg_folder_path): \n",
    "        os.makedirs(jpg_folder_path)\n",
    "    images_path = os.listdir(folder_path)\n",
    "    for n, image in tqdm_notebook(enumerate(images_path)):\n",
    "        ds = pydicom.dcmread(os.path.join(folder_path, image))\n",
    "        pixel_array_numpy = ds.pixel_array\n",
    "        image = image.replace('.dcm', '.jpg')\n",
    "        cv2.imwrite(os.path.join(jpg_folder_path, image), pixel_array_numpy)"
   ]
  },
  {
   "cell_type": "markdown",
   "metadata": {},
   "source": [
    "#### Convert all training images"
   ]
  },
  {
   "cell_type": "code",
   "execution_count": null,
   "metadata": {},
   "outputs": [],
   "source": [
    "if os.listdir(TRAIN_IMG_DIR_JPG) == []: \n",
    "    print(\"No files found in the directory.\") \n",
    "    convertImage(TRAIN_IMG_DCM, TRAIN_IMG_DIR_JPG)"
   ]
  },
  {
   "cell_type": "markdown",
   "metadata": {},
   "source": [
    "#### Convert all test images"
   ]
  },
  {
   "cell_type": "code",
   "execution_count": null,
   "metadata": {},
   "outputs": [],
   "source": [
    "if os.listdir(TRAIN_IMG_DIR_JPG) == []: \n",
    "    print(\"No files found in the directory.\") \n",
    "    convertImage(TEST_IMG_DCM, TEST_IMG_DIR_JPG)"
   ]
  },
  {
   "cell_type": "markdown",
   "metadata": {},
   "source": [
    "## Read data and Preparation for Model"
   ]
  },
  {
   "cell_type": "code",
   "execution_count": null,
   "metadata": {},
   "outputs": [],
   "source": [
    "ALPHA = 1\n",
    "IMAGE_SIZE = 1024\n",
    "IMAGE_HEIGHT = 224\n",
    "IMAGE_WIDTH = 224"
   ]
  },
  {
   "cell_type": "code",
   "execution_count": null,
   "metadata": {},
   "outputs": [],
   "source": [
    "train_class_df.head(5)"
   ]
  },
  {
   "cell_type": "code",
   "execution_count": null,
   "metadata": {},
   "outputs": [],
   "source": [
    "train_class_df['x2']=train_class_df['x'] + train_class_df['width']\n",
    "train_class_df['y2']=train_class_df['y'] + train_class_df['height']\n",
    "train_class_df.rename(columns = {'x':'x1'}, inplace = True)\n",
    "train_class_df.rename(columns = {'y':'y1'}, inplace = True)"
   ]
  },
  {
   "cell_type": "code",
   "execution_count": null,
   "metadata": {},
   "outputs": [],
   "source": [
    "train_class_reduced_df = train_class_df.sample(frac = 0.02) "
   ]
  },
  {
   "cell_type": "code",
   "execution_count": null,
   "metadata": {},
   "outputs": [],
   "source": [
    "train_class_reduced_df.shape"
   ]
  },
  {
   "cell_type": "code",
   "execution_count": null,
   "metadata": {},
   "outputs": [],
   "source": [
    "train_class_reduced_df.head()"
   ]
  },
  {
   "cell_type": "code",
   "execution_count": null,
   "metadata": {},
   "outputs": [],
   "source": [
    "def dropFeatures(train_class_updt_df):\n",
    "    train_class_reduced_df = train_class_updt_df[['path', 'x1', 'y1','x2','y2','Target']].copy(deep = True)\n",
    "    train_class_reduced_df['path'] = (train_class_reduced_df['path']\n",
    "                                 .str.replace('stage_2_train_images', 'JPG_train')\n",
    "                                 .str.replace('.dcm', '.jpg'))\n",
    "    print('Distribution of target in the training set:'); \n",
    "    display(pd.Series(train_class_reduced_df['Target']).value_counts())\n",
    "    train_class_reduced_df = train_class_reduced_df.reset_index()\n",
    "    return train_class_reduced_df"
   ]
  },
  {
   "cell_type": "code",
   "execution_count": null,
   "metadata": {},
   "outputs": [],
   "source": [
    "train_class_updt_df = dropFeatures(train_class_reduced_df)"
   ]
  },
  {
   "cell_type": "markdown",
   "metadata": {},
   "source": [
    "### We need to handle imbalance hence we are going to delete non pneumonic person from the dataset"
   ]
  },
  {
   "cell_type": "code",
   "execution_count": null,
   "metadata": {},
   "outputs": [],
   "source": [
    "def downSample(train_class_updt_df):\n",
    "    df_majority = train_class_updt_df[train_class_updt_df.Target==0]\n",
    "    df_minority = train_class_updt_df[train_class_updt_df.Target==1]\n",
    "    # Downsample majority class\n",
    "    df_majority_downsampled = resample(df_majority, \n",
    "                                     replace=False,    # sample without replacement\n",
    "                                     n_samples=df_minority.shape[0],     # to match minority class\n",
    "                                     random_state=0) # reproducible results\n",
    "\n",
    "    # Combine minority class with downsampled majority class\n",
    "    df_majority_downsampled = pd.concat([df_majority_downsampled, df_minority])\n",
    "\n",
    "    # Display new class counts\n",
    "    display(df_majority_downsampled.Target.value_counts())\n",
    "    df_majority_downsampled = df_majority_downsampled.reset_index()\n",
    "    return df_majority_downsampled"
   ]
  },
  {
   "cell_type": "code",
   "execution_count": null,
   "metadata": {},
   "outputs": [],
   "source": [
    "train_class_reduced_df = downSample(train_class_updt_df)"
   ]
  },
  {
   "cell_type": "code",
   "execution_count": null,
   "metadata": {},
   "outputs": [],
   "source": [
    "train_class_reduced_df.head(5)"
   ]
  },
  {
   "cell_type": "code",
   "execution_count": null,
   "metadata": {},
   "outputs": [],
   "source": [
    "def load_image(path):\n",
    "    img = cv2.imread(path, 1)\n",
    "    # OpenCV loads images with color channels\n",
    "    # in BGR order. So we need to reverse them\n",
    "    return img[...,::-1]"
   ]
  },
  {
   "cell_type": "code",
   "execution_count": null,
   "metadata": {},
   "outputs": [],
   "source": [
    "def maskImage(train_class_updt_df):\n",
    "    masks = np.zeros((int(train_class_updt_df.shape[0]), IMAGE_HEIGHT, IMAGE_WIDTH))\n",
    "    X = np.zeros((int(train_class_updt_df.shape[0]), IMAGE_HEIGHT, IMAGE_WIDTH, 3))\n",
    "    for index in tqdm_notebook(range(train_class_updt_df.shape[0])):\n",
    "        img = load_image(train_class_updt_df['path'][index])\n",
    "        img = cv2.resize(img, dsize=(IMAGE_HEIGHT, IMAGE_WIDTH), interpolation=cv2.INTER_CUBIC)\n",
    "        try:\n",
    "          img = img[:, :, :3]\n",
    "        except:\n",
    "          continue\n",
    "        x1 = train_class_updt_df['x1'][index]   \n",
    "        y1 = train_class_updt_df['y1'][index]\n",
    "        x2 = train_class_updt_df['x2'][index]\n",
    "        y2 = train_class_updt_df['y2'][index]\n",
    "        X[index] = preprocess_input(np.array(img, dtype=np.float32))\n",
    "        \n",
    "        x1 = int((x1 * IMAGE_WIDTH) / IMAGE_SIZE) \n",
    "        x2 = int((x2 * IMAGE_WIDTH) / IMAGE_SIZE)   \n",
    "        y1 = int((y1 * IMAGE_HEIGHT) / IMAGE_SIZE) \n",
    "        y2 = int((y2 * IMAGE_HEIGHT) / IMAGE_SIZE) \n",
    "        masks[index][y1:y2, x1:x2] = 1\n",
    "    return X, masks"
   ]
  },
  {
   "cell_type": "code",
   "execution_count": null,
   "metadata": {},
   "outputs": [],
   "source": [
    "X, masks = maskImage(train_class_reduced_df)"
   ]
  },
  {
   "cell_type": "markdown",
   "metadata": {},
   "source": [
    "X.shape"
   ]
  },
  {
   "cell_type": "code",
   "execution_count": null,
   "metadata": {},
   "outputs": [],
   "source": [
    "masks.shape"
   ]
  },
  {
   "cell_type": "code",
   "execution_count": null,
   "metadata": {},
   "outputs": [],
   "source": [
    "def viewImage(n, X, y):\n",
    "    f, ((ax1, ax2)) = plt.subplots(1, 2, figsize = (15, 8))\n",
    "    ax1.imshow(X[n], cmap = plt.cm.bone)\n",
    "    ax1.set_title('Original Image')\n",
    "    ax1.axis('off')\n",
    "    ax2.imshow(y[n], cmap = plt.cm.bone)\n",
    "    ax2.set_title('Masked Image')\n",
    "    ax2.axis('off')\n",
    "    plt.show()"
   ]
  },
  {
   "cell_type": "code",
   "execution_count": null,
   "metadata": {},
   "outputs": [],
   "source": [
    "def splitData(X, masks,n):\n",
    "    return X[0:n], masks[0:n],X[n:], masks[n:] "
   ]
  },
  {
   "cell_type": "code",
   "execution_count": null,
   "metadata": {},
   "outputs": [],
   "source": [
    "#X_train, y_train, X_test, y_test = splitData(X, masks,25000)"
   ]
  },
  {
   "cell_type": "code",
   "execution_count": null,
   "metadata": {},
   "outputs": [],
   "source": [
    "X_train, X_test, y_train, y_test = train_test_split(X, masks, test_size=0.20, random_state=0)"
   ]
  },
  {
   "cell_type": "code",
   "execution_count": null,
   "metadata": {},
   "outputs": [],
   "source": [
    "X_train.shape, y_train.shape, X_test.shape, y_test.shape"
   ]
  },
  {
   "cell_type": "code",
   "execution_count": null,
   "metadata": {},
   "outputs": [],
   "source": [
    "viewImage(1, X_train, y_train)"
   ]
  },
  {
   "cell_type": "code",
   "execution_count": null,
   "metadata": {},
   "outputs": [],
   "source": [
    "viewImage(10, X_train, y_train)"
   ]
  },
  {
   "cell_type": "code",
   "execution_count": null,
   "metadata": {},
   "outputs": [],
   "source": [
    "X_train.shape"
   ]
  },
  {
   "cell_type": "markdown",
   "metadata": {},
   "source": [
    "## Model 1 : Predict Bounding Boxes"
   ]
  },
  {
   "cell_type": "markdown",
   "metadata": {},
   "source": [
    "### a) Mobile Net"
   ]
  },
  {
   "cell_type": "code",
   "execution_count": null,
   "metadata": {},
   "outputs": [],
   "source": [
    "def createMobileNetModel(trainable=True):\n",
    "    mobnet = MobileNet(input_shape=(IMAGE_HEIGHT, IMAGE_WIDTH, 3), include_top=False, alpha=1.0, weights=\"imagenet\")\n",
    "\n",
    "    for layer in mobnet.layers:\n",
    "        layer.trainable = trainable\n",
    "\n",
    "    block1 = mobnet.get_layer(\"conv_pw_5_relu\").output\n",
    "    block2 = mobnet.get_layer(\"conv_pw_11_relu\").output\n",
    "    block3 = mobnet.get_layer(\"conv_pw_13_relu\").output\n",
    "\n",
    "    x = Concatenate()([UpSampling2D()(block3), block2])\n",
    "    x = Concatenate()([UpSampling2D()(x), block1])\n",
    "    x = Conv2D(1, kernel_size=1, activation=\"sigmoid\")(x)\n",
    "    x = UpSampling2D()(x)\n",
    "    x = UpSampling2D()(x)\n",
    "    x = UpSampling2D()(x)\n",
    "    \n",
    "    x = Reshape((IMAGE_HEIGHT, IMAGE_HEIGHT))(x)\n",
    "\n",
    "    return Model(inputs=mobnet.input, outputs=x)"
   ]
  },
  {
   "cell_type": "code",
   "execution_count": null,
   "metadata": {},
   "outputs": [],
   "source": [
    "model = createMobileNetModel(False)\n",
    "model.summary()"
   ]
  },
  {
   "cell_type": "code",
   "execution_count": null,
   "metadata": {},
   "outputs": [],
   "source": [
    "def dice_coefficient(y_true, y_pred):\n",
    "    numerator = 2 * tf.reduce_sum(y_true * y_pred)\n",
    "    denominator = tf.reduce_sum(y_true + y_pred)\n",
    "\n",
    "    return numerator / (denominator + tf.keras.backend.epsilon())"
   ]
  },
  {
   "cell_type": "code",
   "execution_count": null,
   "metadata": {},
   "outputs": [],
   "source": [
    "def loss(y_true, y_pred):\n",
    "    return binary_crossentropy(y_true, y_pred) - tf.keras.backend.log(dice_coefficient(y_true, y_pred) + tf.keras.backend.epsilon())"
   ]
  },
  {
   "cell_type": "code",
   "execution_count": null,
   "metadata": {},
   "outputs": [],
   "source": [
    "optimizer = Adam(lr=1e-4, beta_1=0.9, beta_2=0.999, epsilon=None, decay=0.0, amsgrad=False)\n",
    "model.compile(loss=loss, optimizer=optimizer, metrics=[dice_coefficient])"
   ]
  },
  {
   "cell_type": "code",
   "execution_count": null,
   "metadata": {},
   "outputs": [],
   "source": [
    "checkpoint = ModelCheckpoint(\"model-{val_loss:.2f}.h5\", monitor=\"val_loss\", verbose=1, save_best_only=True, save_weights_only=True)\n",
    "\n",
    "stop = EarlyStopping(monitor=\"val_loss\", patience=5)\n",
    "\n",
    "reduce_lr = ReduceLROnPlateau(monitor=\"val_loss\", factor=0.2, patience=3, min_lr=1e-6, verbose=1)"
   ]
  },
  {
   "cell_type": "code",
   "execution_count": null,
   "metadata": {},
   "outputs": [],
   "source": [
    "model.fit(X_train, y_train, epochs = 30, \n",
    "          batch_size = 1, callbacks = [checkpoint, reduce_lr, stop], validation_data = (X_test, y_test))"
   ]
  },
  {
   "cell_type": "code",
   "execution_count": null,
   "metadata": {},
   "outputs": [],
   "source": [
    "scores = model.evaluate(X_test, y_test, verbose = 1)"
   ]
  },
  {
   "cell_type": "code",
   "execution_count": null,
   "metadata": {},
   "outputs": [],
   "source": [
    "print(\"Accuracy: \", scores[1])\n",
    "print(\"Loss: \", scores[0])"
   ]
  },
  {
   "cell_type": "code",
   "execution_count": null,
   "metadata": {},
   "outputs": [],
   "source": [
    "y_pred = model.predict(X_test, verbose = 1)"
   ]
  },
  {
   "cell_type": "code",
   "execution_count": null,
   "metadata": {},
   "outputs": [],
   "source": [
    "viewImage(3, X_test, y_pred)"
   ]
  },
  {
   "cell_type": "markdown",
   "metadata": {},
   "source": [
    "#### b) Mobile Net with additional layers"
   ]
  },
  {
   "cell_type": "code",
   "execution_count": null,
   "metadata": {},
   "outputs": [],
   "source": [
    "def conv_block_simple(prevlayer, filters, prefix, strides=(1, 1)):\n",
    "    conv = Conv2D(filters, (3, 3), padding = 'same', kernel_initializer = 'he_normal', strides = strides, name = prefix + '_conv')(prevlayer)\n",
    "    conv = BatchNormalization(name = prefix + 'BatchNormalization')(conv)\n",
    "    conv = Activation('relu', name = prefix + 'ActivationLayer')(conv)\n",
    "    return conv\n",
    "\n",
    "def createMobileNetModel2(trainable=True):\n",
    "    model = MobileNet(input_shape=(IMAGE_HEIGHT, IMAGE_WIDTH, 3), include_top=False, alpha=ALPHA, weights=\"imagenet\")\n",
    "\n",
    "    for layer in model.layers:\n",
    "        layer.trainable = trainable\n",
    "    block1 = model.get_layer('conv_pw_13_relu').output\n",
    "    block2 = model.get_layer('conv_pw_11_relu').output\n",
    "    block3 = model.get_layer('conv_pw_5_relu').output\n",
    "    block4 = model.get_layer('conv_pw_3_relu').output\n",
    "    block5 = model.get_layer('conv_pw_1_relu').output\n",
    "\n",
    "    up1 = Concatenate()([UpSampling2D()(block1), block2])\n",
    "    conv6 = conv_block_simple(up1, 256, 'Conv_6_1')\n",
    "    conv6 = conv_block_simple(conv6, 256, 'Conv_6_2')\n",
    "\n",
    "    up2 = Concatenate()([UpSampling2D()(conv6), block3])\n",
    "    conv7 = conv_block_simple(up2, 256, 'Conv_7_1')\n",
    "    conv7 = conv_block_simple(conv7, 256, 'Conv_7_2')\n",
    "\n",
    "    up3 = Concatenate()([UpSampling2D()(conv7), block4])\n",
    "    conv8 = conv_block_simple(up3, 192, 'Conv_8_1')\n",
    "    conv8 = conv_block_simple(conv8, 128, 'Conv_8_2')\n",
    "\n",
    "    up4 = Concatenate()([UpSampling2D()(conv8), block5])\n",
    "    conv9 = conv_block_simple(up4, 96, 'Conv_9_1')\n",
    "    conv9 = conv_block_simple(conv9, 64, 'Conv_9_2')\n",
    "\n",
    "    up5 = Concatenate()([UpSampling2D()(conv9), model.input])\n",
    "    conv10 = conv_block_simple(up5, 48, 'Conv_10_1')\n",
    "    conv10 = conv_block_simple(conv10, 32, 'Conv_10_2')\n",
    "    conv10 = SpatialDropout2D(0.2)(conv10)\n",
    "    \n",
    "    x = Conv2D(1, (1, 1), activation = 'sigmoid')(conv10)\n",
    "    x = Reshape((IMAGE_HEIGHT, IMAGE_HEIGHT))(x)\n",
    "    return Model(inputs = model.input, outputs = x)"
   ]
  },
  {
   "cell_type": "code",
   "execution_count": null,
   "metadata": {},
   "outputs": [],
   "source": [
    "model = createMobileNetModel2(False)\n",
    "model.summary()"
   ]
  },
  {
   "cell_type": "code",
   "execution_count": null,
   "metadata": {},
   "outputs": [],
   "source": [
    "model.compile(loss = loss, optimizer = optimizer, metrics = [dice_coefficient])\n",
    "model.fit(X_train, y_train, \n",
    "           epochs = 30, batch_size = 32, callbacks = [checkpoint, reduce_lr, stop], validation_data = (X_test, y_test))"
   ]
  },
  {
   "cell_type": "code",
   "execution_count": null,
   "metadata": {},
   "outputs": [],
   "source": [
    "scores = model.evaluate(X_test, y_test, verbose = 1)"
   ]
  },
  {
   "cell_type": "code",
   "execution_count": null,
   "metadata": {},
   "outputs": [],
   "source": [
    "print(\"Accuracy: \", scores[1])\n",
    "print(\"Loss: \", scores[0])"
   ]
  },
  {
   "cell_type": "code",
   "execution_count": null,
   "metadata": {},
   "outputs": [],
   "source": [
    "y_pred = model.predict(X_test, verbose = 1)"
   ]
  },
  {
   "cell_type": "code",
   "execution_count": null,
   "metadata": {},
   "outputs": [],
   "source": [
    "viewImage(3, X_test, y_pred)"
   ]
  },
  {
   "cell_type": "markdown",
   "metadata": {},
   "source": [
    "## Model 2: Predict Pneumonia"
   ]
  },
  {
   "cell_type": "code",
   "execution_count": null,
   "metadata": {},
   "outputs": [],
   "source": [
    "path_class_reduced_target = train_class_df.sample(frac = 0.02) "
   ]
  },
  {
   "cell_type": "code",
   "execution_count": null,
   "metadata": {},
   "outputs": [],
   "source": [
    "path_class_reduced_target = downSample(path_class_reduced_target)"
   ]
  },
  {
   "cell_type": "code",
   "execution_count": null,
   "metadata": {},
   "outputs": [],
   "source": [
    "path_class_reduced_target.head()"
   ]
  },
  {
   "cell_type": "code",
   "execution_count": null,
   "metadata": {},
   "outputs": [],
   "source": [
    "# A dataframe with paths, classes and targets\n",
    "print('Prepare a dataframe with paths, classes and targets'); print('--'*40)\n",
    "path_class_target = path_class_reduced_target[['patientId', 'path', 'class', 'Target']].copy(deep = True)\n",
    "path_class_target['path'] = (path_class_target['path']\n",
    "                             .str.replace('stage_2_train_images', 'JPG_train')\n",
    "                             .str.replace('.dcm', '.jpg'))\n",
    "path_class_target.drop_duplicates(inplace = True)\n",
    "path_class_reduced_df = path_class_target.reset_index()\n",
    "display(path_class_target.shape, path_class_target.nunique())\n",
    "print('\\nDistribution of target and classes')\n",
    "display(path_class_reduced_df['Target'].value_counts())\n",
    "print()\n",
    "display(path_class_reduced_df['class'].value_counts())"
   ]
  },
  {
   "cell_type": "code",
   "execution_count": null,
   "metadata": {},
   "outputs": [],
   "source": [
    "#path_class_target.head(10)"
   ]
  },
  {
   "cell_type": "code",
   "execution_count": null,
   "metadata": {},
   "outputs": [],
   "source": [
    "#path_class_reduced_df = path_class_target.sample(frac = 0.02) "
   ]
  },
  {
   "cell_type": "code",
   "execution_count": null,
   "metadata": {},
   "outputs": [],
   "source": [
    "#path_class_reduced_df.shape"
   ]
  },
  {
   "cell_type": "code",
   "execution_count": null,
   "metadata": {},
   "outputs": [],
   "source": [
    "# Split the data in train, valid and test sets\n",
    "print('Split the data in train, valid and test sets'); print('--'*40)\n",
    "\n",
    "image_list = list(path_class_reduced_df['path'])\n",
    "random.shuffle(image_list)\n",
    "test_size = round(len(image_list)/10)\n",
    "val_size = round(len(image_list)/10)\n",
    "train_size = len(image_list)-test_size-val_size\n",
    "\n",
    "X_train = image_list[:train_size]\n",
    "X_valid = image_list[train_size:(train_size + val_size)]\n",
    "X_test = image_list[(train_size + val_size):]"
   ]
  },
  {
   "cell_type": "code",
   "execution_count": null,
   "metadata": {},
   "outputs": [],
   "source": [
    "print('Create Training, Validation and Test Dataframe with Path and Target'); print('--'*40)\n",
    "\n",
    "df_train = (path_class_reduced_df.merge(pd.Series(X_train, name = 'path'), \n",
    "                                    on = 'path', \n",
    "                                    how = 'right')\n",
    "          .drop(['class'], axis = 1))\n",
    "\n",
    "df_valid = (path_class_reduced_df.merge(pd.Series(X_valid, name = 'path'), \n",
    "                                    on = 'path', \n",
    "                                    how = 'right')\n",
    "          .drop(['class'], axis = 1))\n",
    "\n",
    "df_test = (path_class_reduced_df.merge(pd.Series(X_test, name = 'path'), \n",
    "                                    on = 'path', \n",
    "                                    how = 'right')\n",
    "          .drop(['class'], axis = 1))\n",
    "\n",
    "print('Shape of the dataframes:\\nTrain:{}\\nValid:{}\\nTest:{}'.format(df_train.shape, df_valid.shape, df_test.shape))"
   ]
  },
  {
   "cell_type": "code",
   "execution_count": null,
   "metadata": {},
   "outputs": [],
   "source": [
    "df_train.shape"
   ]
  },
  {
   "cell_type": "code",
   "execution_count": null,
   "metadata": {},
   "outputs": [],
   "source": [
    "df_train.head()"
   ]
  },
  {
   "cell_type": "code",
   "execution_count": null,
   "metadata": {},
   "outputs": [],
   "source": [
    "df_train.info()"
   ]
  },
  {
   "cell_type": "code",
   "execution_count": null,
   "metadata": {},
   "outputs": [],
   "source": [
    "print('Training, Validation and Test set is ~equally distributed on target'); print('--'*40)\n",
    "print('Distribution of target in the training set:'); \n",
    "display(pd.Series(df_train['Target']).value_counts(normalize = True).round(2))\n",
    "print('\\nDistribution of target in the validation set:'); \n",
    "display(pd.Series(df_valid['Target']).value_counts(normalize = True).round(2))\n",
    "print('\\nDistribution of target in the test set:'); \n",
    "display(pd.Series(df_test['Target']).value_counts(normalize = True).round(2))"
   ]
  },
  {
   "cell_type": "code",
   "execution_count": null,
   "metadata": {},
   "outputs": [],
   "source": [
    "print('Save the train, valid and test dataframes for future use');print('--'*40)\n",
    "df_train.to_pickle('train_data.pkl')\n",
    "df_valid.to_pickle('valid_data.pkl')\n",
    "df_test.to_pickle('test_data.pkl')"
   ]
  },
  {
   "cell_type": "code",
   "execution_count": null,
   "metadata": {},
   "outputs": [],
   "source": [
    "# Data generator\n",
    "class DataGenerators:\n",
    "    def __init__(self, df_train, df_valid, df_test, batch_size, path,\n",
    "                 img_size = (224, 224), class_mode = 'binary',\n",
    "                 random_state = 2020):\n",
    "        self.df_train = df_train\n",
    "        self.df_valid = df_valid\n",
    "        self.df_test = df_test\n",
    "        self.batch_size = batch_size\n",
    "        self.img_size = img_size\n",
    "        self.path = path\n",
    "        self.class_mode = class_mode\n",
    "        \n",
    "        train_augmenter = ImageDataGenerator(\n",
    "            preprocessing_function = preprocess_input,\n",
    "            rotation_range = 20, width_shift_range = 0.2,\n",
    "            height_shift_range = 0.2, zoom_range = 0.2,\n",
    "            horizontal_flip = True, rescale = 1/255.\n",
    "            )\n",
    "        \n",
    "        valid_augmenter = ImageDataGenerator(\n",
    "            preprocessing_function = preprocess_input, \n",
    "            rescale = 1/255.\n",
    "            )\n",
    "        \n",
    "        test_augmenter = ImageDataGenerator(\n",
    "            preprocessing_function = preprocess_input,\n",
    "            rescale = 1/255.\n",
    "            )\n",
    "        \n",
    "        print('Train Generator Created', '--'*20)\n",
    "        self.train_generator = train_augmenter.flow_from_dataframe(\n",
    "            x_col = 'path',\n",
    "            y_col = 'Target',\n",
    "            dataframe = self.df_train,\n",
    "            batch_size = self.batch_size,\n",
    "            target_size = self.img_size,\n",
    "            directory = self.path,\n",
    "            class_mode = self.class_mode,\n",
    "            seed = random_state,\n",
    "            shuffle = True\n",
    "            )\n",
    "        print('Validation Generator Created', '--'*20)\n",
    "        self.valid_generator = valid_augmenter.flow_from_dataframe(\n",
    "            x_col = 'path',\n",
    "            y_col = 'Target',\n",
    "            dataframe = self.df_valid,\n",
    "            batch_size = self.batch_size,\n",
    "            target_size = self.img_size,\n",
    "            directory = self.path,\n",
    "            class_mode = self.class_mode,\n",
    "            seed = random_state,\n",
    "            shuffle = False\n",
    "            )\n",
    "        print('Test Generator Created', '--'*20)\n",
    "        self.test_generator = test_augmenter.flow_from_dataframe(\n",
    "            x_col = 'path',\n",
    "            y_col = 'Target',\n",
    "            dataframe = self.df_test,\n",
    "            batch_size = self.batch_size,\n",
    "            target_size = self.img_size,\n",
    "            directory = self.path,\n",
    "            class_mode = self.class_mode,\n",
    "            seed = random_state,\n",
    "            shuffle = False\n",
    "            )\n",
    "        \n",
    "        self.step_size_train = math.ceil(\n",
    "            self.train_generator.n//self.train_generator.batch_size + 1\n",
    "            )\n",
    "        self.step_size_valid = math.ceil(\n",
    "            self.valid_generator.n//self.valid_generator.batch_size + 1\n",
    "            )\n",
    "        self.step_size_test = math.ceil(\n",
    "            self.test_generator.n//self.test_generator.batch_size + 1\n",
    "            )"
   ]
  },
  {
   "cell_type": "code",
   "execution_count": null,
   "metadata": {},
   "outputs": [],
   "source": [
    "df_train['Target'] = df_train['Target'].astype(str); \n",
    "df_valid['Target'] = df_valid['Target'].astype(str); \n",
    "df_test['Target'] = df_test['Target'].astype(str)"
   ]
  },
  {
   "cell_type": "code",
   "execution_count": null,
   "metadata": {},
   "outputs": [],
   "source": [
    "df_train.head(3)"
   ]
  },
  {
   "cell_type": "code",
   "execution_count": null,
   "metadata": {},
   "outputs": [],
   "source": [
    "TRAIN_IMAGES_DIR = os.path.join('/Volumes/Ayon_Drive/GreatLearning/Capstone_Pneumonia/')"
   ]
  },
  {
   "cell_type": "code",
   "execution_count": null,
   "metadata": {},
   "outputs": [],
   "source": [
    "print('Create generators for training, validation and test dataframes'); print('--'*40)\n",
    "generators = DataGenerators(df_train, df_valid, df_test, \n",
    "                            batch_size = 32, \n",
    "                            path = TRAIN_IMAGES_DIR, \n",
    "                            img_size = (224, 224), \n",
    "                            class_mode = 'binary',\n",
    "                            random_state = 2020)"
   ]
  },
  {
   "cell_type": "code",
   "execution_count": null,
   "metadata": {},
   "outputs": [],
   "source": [
    "# ROC AUC as a Metric\n",
    "# Reference: https://stackoverflow.com/questions/41032551/how-to-compute-receiving-operating-characteristic-roc-and-auc-in-keras\n",
    "def roc_auc(y_true, y_pred):\n",
    "    return tf.compat.v1.py_function(roc_auc_score, (y_true, y_pred), tf.double)\n",
    "\n",
    "# Average Precision as a Metric\n",
    "import tensorflow.keras.backend as K\n",
    "def average_precision(y_true, y_pred):\n",
    "    true_positives = K.sum(K.round(K.clip(y_true * y_pred, 0, 1)))\n",
    "    predicted_positives = K.sum(K.round(K.clip(y_pred, 0, 1)))\n",
    "    precision = true_positives / (predicted_positives + K.epsilon())\n",
    "    return precision\n",
    "\n",
    "# F1 score as a Metric\n",
    "# Reference: https://stackoverflow.com/questions/43547402/how-to-calculate-f1-macro-in-keras\n",
    "def f1_score(y_true, y_pred):\n",
    "    def recall(y_true, y_pred):\n",
    "        true_positives = K.sum(K.round(K.clip(y_true * y_pred, 0, 1)))\n",
    "        possible_positives = K.sum(K.round(K.clip(y_true, 0, 1)))\n",
    "        recall = true_positives / (possible_positives + K.epsilon())\n",
    "        return recall\n",
    "\n",
    "    def precision(y_true, y_pred):\n",
    "        true_positives = K.sum(K.round(K.clip(y_true * y_pred, 0, 1)))\n",
    "        predicted_positives = K.sum(K.round(K.clip(y_pred, 0, 1)))\n",
    "        precision = true_positives / (predicted_positives + K.epsilon())\n",
    "        return precision\n",
    "    precision = precision(y_true, y_pred)\n",
    "    recall = recall(y_true, y_pred)\n",
    "    return 2*((precision*recall)/(precision+recall+K.epsilon()))\n"
   ]
  },
  {
   "cell_type": "code",
   "execution_count": null,
   "metadata": {},
   "outputs": [],
   "source": [
    "# Model Parameters\n",
    "BATCH_SIZE = 32\n",
    "IMAGE_SIZE = 224\n",
    "EPOCH = 10\n",
    "LEARNING_RATE = 1e-4\n",
    "MONITOR = 'val_loss'\n",
    "MODE = 'min'\n",
    "VERBOSE = 1\n",
    "FACTOR = 0.1\n",
    "PATIENCE = 5\n",
    "COOLDOWN = 5\n",
    "BEST_MODEL = 'best_densenet.h5'\n",
    "FINAL_MODEL = 'best_densenet_final.h5'\n",
    "LOG_FILE = 'logs.csv'\n",
    "LOSS = 'binary_crossentropy'\n",
    "METRICS = ['accuracy', average_precision, f1_score]"
   ]
  },
  {
   "cell_type": "code",
   "execution_count": null,
   "metadata": {},
   "outputs": [],
   "source": [
    "def buildModel(MODEL):\n",
    "    #print('Create a' + str(MODEL) + ' model'); print('--'*40)\n",
    "    input_shape = (IMAGE_SIZE, IMAGE_SIZE, 3)\n",
    "    inputs = Input(shape = input_shape)\n",
    "    initializer = tf.keras.initializers.GlorotNormal()\n",
    "    \n",
    "    base_model = MODEL(include_top = False, input_tensor = inputs, weights ='imagenet')\n",
    "    \n",
    "    for layer in base_model.layers[:-12]:\n",
    "        layer.trainable = False\n",
    "    \n",
    "    for layer in base_model.layers:\n",
    "        print(layer,layer.trainable)\n",
    "    \n",
    "    model = Sequential(name = 'DenseNet121')\n",
    "    model.add(base_model)\n",
    "    model.add(GlobalAveragePooling2D())\n",
    "    model.add(Dropout(0.4))\n",
    "    model.add(Dense(1, activation = 'sigmoid', kernel_initializer = initializer))\n",
    "    model.summary()\n",
    "    return model\n",
    "\n",
    "def buildModel1():\n",
    "    #print('Create a' + str(MODEL) + ' model'); print('--'*40)\n",
    "    input_shape = (IMAGE_SIZE, IMAGE_SIZE, 3)\n",
    "    inputs = Input(shape = input_shape)\n",
    "    initializer = tf.keras.initializers.GlorotNormal()\n",
    "    \n",
    "    base_model = VGG16(include_top = False, input_tensor = inputs, weights ='imagenet')\n",
    "    \n",
    "    for layer in base_model.layers[:-12]:\n",
    "        layer.trainable = False\n",
    "    \n",
    "    for layer in base_model.layers:\n",
    "        print(layer,layer.trainable)\n",
    "    \n",
    "    model = Sequential(name = 'DenseNet121')\n",
    "    model.add(base_model)\n",
    "    model.add(GlobalAveragePooling2D())\n",
    "    model.add(Dropout(0.4))\n",
    "    model.add(Dense(1, activation = 'sigmoid', kernel_initializer = initializer))\n",
    "    model.summary()\n",
    "    return model\n",
    "\n",
    "def callback_model():\n",
    "    print(\"in call backs\")\n",
    "    lrscheduler = ReduceLROnPlateau(monitor = MONITOR, factor = FACTOR, \n",
    "                                    patience = PATIENCE, verbose = VERBOSE, \n",
    "                                    mode = MODE, cooldown = COOLDOWN)\n",
    "    \n",
    "    model.compile(optimizer = Adam(lr = LEARNING_RATE), loss = LOSS, metrics = METRICS)\n",
    "    \n",
    "    cp = ModelCheckpoint(filepath = MODEL_WEIGHTS + BEST_MODEL, monitor = MONITOR, \n",
    "                         verbose = VERBOSE, save_best_only = True, mode = MODE)\n",
    "    \n",
    "    if os.path.exists(MODEL_WEIGHTS + LOG_FILE): os.remove(MODEL_WEIGHTS + LOG_FILE)\n",
    "    csv_logger = CSVLogger(MODEL_WEIGHTS + LOG_FILE, append = True)\n",
    "    \n",
    "    callbacks = [cp, csv_logger, lrscheduler]\n",
    "    return callbacks\n",
    "\n",
    "def evaluateValidationData(model):\n",
    "    \n",
    "    ##Evaluate on validation data\n",
    "    print('Evaluate the model on validation data'); print('--'*40)\n",
    "\n",
    "    loss, accuracy, ap, f1 = model.evaluate_generator(generator = validation_generator, \n",
    "                                          steps = generators.step_size_valid)\n",
    "    print(f'Loss: {round(loss, 3)}, Accuracy: {round(float(accuracy), 3)},  AP: {round(float(ap), 3)}, F1 Score: {round(float(f1), 3)}')\n",
    "    \n",
    "    ##Prediction on validation data\n",
    "    print('Predict on the validation data'); print('--'*40)\n",
    "    validation_generator.reset()\n",
    "    valid_pred_roc = model.predict_generator(generator = validation_generator,\n",
    "                                             steps = generators.step_size_valid,\n",
    "                                             verbose = 1)\n",
    "    valid_pred = []\n",
    "    for i in valid_pred_roc:\n",
    "        if i >= 0.5: valid_pred.append(1)\n",
    "        else: valid_pred.append(0)\n",
    "    y_valid = df_valid['Target'].astype(int).values\n",
    "    x_valid = df_valid['path']\n",
    "    \n",
    "    return valid_pred, y_valid, x_valid\n",
    "\n",
    "def evaluateTestData(y_valid):\n",
    "    \n",
    "    ##Prediction on test data\n",
    "    print('Predict on the test data'); print('--'*40)\n",
    "    test_generator.reset()\n",
    "    test_pred_roc = model.predict_generator(generator = test_generator,\n",
    "                                            steps = generators.step_size_test,\n",
    "                                            verbose = 1)\n",
    "    test_pred = []\n",
    "    for i in test_pred_roc:\n",
    "        if i >= 0.5: test_pred.append(1)\n",
    "        else: test_pred.append(0)\n",
    "    y_test = df_test['Target'].astype(int).values\n",
    "    x_test = df_test['path']\n",
    "          \n",
    "    display(pd.Series(y_valid).value_counts(), pd.Series(y_test).value_counts())\n",
    "    \n",
    "    correct = np.nonzero(test_pred == y_test)[0]\n",
    "    incorrect = np.nonzero(test_pred != y_test)[0]\n",
    "    percentage = ((correct.size)/(correct.size + incorrect.size)) * 100\n",
    "    \n",
    "    print(\"Correctly predicted %d images out of %d images\" %(correct.size, correct.size+incorrect.size))\n",
    "    print(\"Predicted %.0f%% test images correctly\" %(correct.size/(correct.size+incorrect.size)*100))\n",
    "    \n",
    "    return test_pred, y_test, x_test, correct, incorrect\n",
    "\n",
    "def evaluateROC(valid_pred_roc,test_pred_roc,y_valid,y_test):\n",
    "    \n",
    "    print('ROC Curve for the validation data'); print('--'*40)\n",
    "\n",
    "    roc_auc_valid = roc_auc_score(y_valid, np.array(valid_pred_roc).reshape(-1))\n",
    "    print('AUC: {:0.3f}'.format(roc_auc_valid))\n",
    "\n",
    "    fig = plt.figure(figsize = (10, 7.2))\n",
    "    fpr, tpr, thresholds = roc_curve(y_valid, np.array(valid_pred_roc).reshape(-1))\n",
    "    plt.title('ROC Curve for the validation data')\n",
    "    plt.ylabel('True Positive Rate')\n",
    "    plt.xlabel('False Positive Rate')\n",
    "    plt.axis([0, 1, 0, 1])\n",
    "    plt.plot([0, 1], [0, 1], linestyle = '--', label = 'No Skill')\n",
    "    plt.plot(fpr, tpr, marker = '.', label = 'ROC curve (area = %0.3f)' % roc_auc_valid)\n",
    "    plt.legend(loc = 'lower right')\n",
    "    plt.show()\n",
    "          \n",
    "    print('ROC Curve for the test data'); print('--'*40)\n",
    "\n",
    "    roc_auc_test = roc_auc_score(y_test, np.array(test_pred_roc).reshape(-1))\n",
    "    print('AUC: {:0.3f}'.format(roc_auc_test))\n",
    "\n",
    "    fig = plt.figure(figsize = (10, 7.2))\n",
    "    fpr, tpr, thresholds = roc_curve(y_test, np.array(test_pred_roc).reshape(-1))\n",
    "    plt.title('ROC Curve for the test data')\n",
    "    plt.ylabel('True Positive Rate')\n",
    "    plt.xlabel('False Positive Rate')\n",
    "    plt.axis([0, 1, 0, 1])\n",
    "    plt.plot([0, 1], [0, 1], linestyle = '--', label = 'Random')\n",
    "    plt.plot(fpr, tpr, marker = '.', label = 'ROC curve (area = %0.3f)' % roc_auc_test)\n",
    "    plt.legend(loc = 'lower right')\n",
    "    plt.show()\n",
    "          \n",
    "    print('Classification Report on the test data'); print('--'*60)\n",
    "    print(classification_report(y_test, test_pred, target_names = ['Normal', 'Pneumonia']))\n",
    "          \n",
    "    print('Classification Report on the validation data'); print('--'*60)\n",
    "    print(classification_report(y_valid, valid_pred, target_names = ['Normal', 'Pneumonia']))"
   ]
  },
  {
   "cell_type": "code",
   "execution_count": null,
   "metadata": {},
   "outputs": [],
   "source": [
    "MODEL_WEIGHTS = os.path.join('model_weights/')\n",
    "if not os.path.exists(MODEL_WEIGHTS): os.makedirs(MODEL_WEIGHTS)"
   ]
  },
  {
   "cell_type": "code",
   "execution_count": null,
   "metadata": {},
   "outputs": [],
   "source": [
    "print('Lets fit the model.....')\n",
    "K.clear_session()\n",
    "model = buildModel(DenseNet121)\n",
    "callbacks = callback_model()\n",
    "train_generator = generators.train_generator\n",
    "validation_generator = generators.valid_generator\n",
    "test_generator = generators.test_generator    \n",
    "history = model.fit_generator(generator = train_generator, \n",
    "                              steps_per_epoch = generators.step_size_train,\n",
    "                              epochs = EPOCH, verbose = VERBOSE, \n",
    "                              callbacks = callbacks,\n",
    "                              validation_data = validation_generator, \n",
    "                              validation_steps = generators.step_size_valid)\n",
    "print('Save the final weights'); print('--'*40)\n",
    "model.save(MODEL_WEIGHTS + FINAL_MODEL)"
   ]
  },
  {
   "cell_type": "code",
   "execution_count": null,
   "metadata": {},
   "outputs": [],
   "source": [
    "valid_pred, y_valid, x_valid = evaluateValidationData(model)"
   ]
  },
  {
   "cell_type": "code",
   "execution_count": null,
   "metadata": {},
   "outputs": [],
   "source": [
    "test_pred, y_test, x_test, correct, incorrect = evaluateTestData(y_valid)"
   ]
  },
  {
   "cell_type": "code",
   "execution_count": null,
   "metadata": {},
   "outputs": [],
   "source": [
    "def viewPredictedImage(correct):\n",
    "    for c in correct[:4]:\n",
    "        f, ((ax1)) = plt.subplots(1, 1, figsize = (15, 8))\n",
    "        img = load_image(x_test[c])\n",
    "        img = cv2.resize(img, dsize=(IMAGE_HEIGHT, IMAGE_WIDTH), interpolation=cv2.INTER_CUBIC)\n",
    "        ax1.imshow(img, cmap = plt.cm.bone)\n",
    "        ax1.set_title(\"Predicted Class {},Actual Class {}\".format(valid_pred[c], y_test[c]))\n",
    "        ax1.axis('off')\n",
    "        plt.show()"
   ]
  },
  {
   "cell_type": "code",
   "execution_count": null,
   "metadata": {},
   "outputs": [],
   "source": [
    "viewPredictedImage(correct)"
   ]
  },
  {
   "cell_type": "code",
   "execution_count": null,
   "metadata": {},
   "outputs": [],
   "source": [
    "viewPredictedImage(incorrect)"
   ]
  },
  {
   "cell_type": "code",
   "execution_count": null,
   "metadata": {},
   "outputs": [],
   "source": [
    "evaluateROC(valid_pred_roc,test_pred_roc,y_valid,y_test)"
   ]
  },
  {
   "cell_type": "code",
   "execution_count": null,
   "metadata": {},
   "outputs": [],
   "source": [
    "print('Reloading model weights and lets evaluate on validation set'); print('--'*40)\n",
    "model.load_weights(MODEL_WEIGHTS + BEST_MODEL)"
   ]
  },
  {
   "cell_type": "markdown",
   "metadata": {},
   "source": [
    "### Model 2 VGG 16"
   ]
  },
  {
   "cell_type": "code",
   "execution_count": null,
   "metadata": {},
   "outputs": [],
   "source": [
    "print('Lets fit the VGG16 model.....')\n",
    "K.clear_session()\n",
    "model = buildModel(VGG16)\n",
    "callbacks = callback_model()\n",
    "train_generator = generators.train_generator\n",
    "validation_generator = generators.valid_generator\n",
    "test_generator = generators.test_generator    \n",
    "history = model.fit_generator(generator = train_generator, \n",
    "                              steps_per_epoch = generators.step_size_train,\n",
    "                              epochs = EPOCH, verbose = VERBOSE, \n",
    "                              callbacks = callbacks,\n",
    "                              validation_data = validation_generator, \n",
    "                              validation_steps = generators.step_size_valid)\n",
    "print('Save the final weights'); print('--'*40)\n",
    "model.save(MODEL_WEIGHTS + FINAL_MODEL)"
   ]
  },
  {
   "cell_type": "code",
   "execution_count": null,
   "metadata": {},
   "outputs": [],
   "source": [
    "valid_pred, y_valid, x_valid = evaluateValidationData(model)"
   ]
  },
  {
   "cell_type": "code",
   "execution_count": null,
   "metadata": {},
   "outputs": [],
   "source": [
    "test_pred, y_test, x_test, correct, incorrect = evaluateTestData(y_valid)"
   ]
  },
  {
   "cell_type": "code",
   "execution_count": null,
   "metadata": {},
   "outputs": [],
   "source": [
    "viewPredictedImage(correct)"
   ]
  },
  {
   "cell_type": "code",
   "execution_count": null,
   "metadata": {},
   "outputs": [],
   "source": [
    "viewPredictedImage(incorrect)"
   ]
  },
  {
   "cell_type": "code",
   "execution_count": null,
   "metadata": {},
   "outputs": [],
   "source": [
    "evaluateROC(valid_pred_roc,test_pred_roc,y_valid,y_test)"
   ]
  },
  {
   "cell_type": "code",
   "execution_count": null,
   "metadata": {},
   "outputs": [],
   "source": [
    "\n",
    "\n",
    "print('Lets fit the Restnet model.....')\n",
    "K.clear_session()\n",
    "model = buildModel(ResNet50)\n",
    "callbacks = callback_model()\n",
    "train_generator = generators.train_generator\n",
    "validation_generator = generators.valid_generator\n",
    "test_generator = generators.test_generator    \n",
    "history = model.fit_generator(generator = train_generator, \n",
    "                              steps_per_epoch = generators.step_size_train,\n",
    "                              epochs = EPOCH, verbose = VERBOSE, \n",
    "                              callbacks = callbacks,\n",
    "                              validation_data = validation_generator, \n",
    "                              validation_steps = generators.step_size_valid)\n",
    "print('Save the final weights'); print('--'*40)\n",
    "model.save(MODEL_WEIGHTS + FINAL_MODEL)"
   ]
  },
  {
   "cell_type": "code",
   "execution_count": null,
   "metadata": {},
   "outputs": [],
   "source": [
    "valid_pred, y_valid, x_valid = evaluateValidationData(model)\n"
   ]
  },
  {
   "cell_type": "code",
   "execution_count": null,
   "metadata": {},
   "outputs": [],
   "source": [
    "test_pred, y_test, x_test, correct, incorrect = evaluateTestData(y_valid)\n"
   ]
  },
  {
   "cell_type": "code",
   "execution_count": null,
   "metadata": {},
   "outputs": [],
   "source": [
    "viewPredictedImage(correct)\n"
   ]
  },
  {
   "cell_type": "code",
   "execution_count": null,
   "metadata": {},
   "outputs": [],
   "source": [
    "viewPredictedImage(incorrect)\n"
   ]
  },
  {
   "cell_type": "code",
   "execution_count": null,
   "metadata": {},
   "outputs": [],
   "source": [
    "evaluateROC(valid_pred_roc,test_pred_roc,y_valid,y_test)"
   ]
  },
  {
   "cell_type": "code",
   "execution_count": null,
   "metadata": {},
   "outputs": [],
   "source": [
    "print('Lets fit the InceptionV3 model.....')\n",
    "K.clear_session()\n",
    "model = buildModel(InceptionV3)\n",
    "callbacks = callback_model()\n",
    "train_generator = generators.train_generator\n",
    "validation_generator = generators.valid_generator\n",
    "test_generator = generators.test_generator    \n",
    "history = model.fit_generator(generator = train_generator, \n",
    "                              steps_per_epoch = generators.step_size_train,\n",
    "                              epochs = EPOCH, verbose = VERBOSE, \n",
    "                              callbacks = callbacks,\n",
    "                              validation_data = validation_generator, \n",
    "                              validation_steps = generators.step_size_valid)\n",
    "print('Save the final weights'); print('--'*40)\n",
    "model.save(MODEL_WEIGHTS + FINAL_MODEL)"
   ]
  },
  {
   "cell_type": "code",
   "execution_count": null,
   "metadata": {},
   "outputs": [],
   "source": [
    "valid_pred, y_valid, x_valid = evaluateValidationData(model)\n",
    "test_pred, y_test, x_test, correct, incorrect = evaluateTestData(y_valid)\n",
    "viewPredictedImage(correct)\n",
    "viewPredictedImage(incorrect)\n",
    "evaluateROC(valid_pred_roc,test_pred_roc,y_valid,y_test)"
   ]
  },
  {
   "cell_type": "code",
   "execution_count": null,
   "metadata": {},
   "outputs": [],
   "source": [
    "print('Lets fit the VGG19 model.....')\n",
    "K.clear_session()\n",
    "model = buildModel(VGG19)\n",
    "callbacks = callback_model()\n",
    "train_generator = generators.train_generator\n",
    "validation_generator = generators.valid_generator\n",
    "test_generator = generators.test_generator    \n",
    "history = model.fit_generator(generator = train_generator, \n",
    "                              steps_per_epoch = generators.step_size_train,\n",
    "                              epochs = EPOCH, verbose = VERBOSE, \n",
    "                              callbacks = callbacks,\n",
    "                              validation_data = validation_generator, \n",
    "                              validation_steps = generators.step_size_valid)\n",
    "print('Save the final weights'); print('--'*40)\n",
    "model.save(MODEL_WEIGHTS + FINAL_MODEL)"
   ]
  },
  {
   "cell_type": "code",
   "execution_count": null,
   "metadata": {},
   "outputs": [],
   "source": [
    "valid_pred, y_valid, x_valid = evaluateValidationData(model)\n"
   ]
  },
  {
   "cell_type": "code",
   "execution_count": null,
   "metadata": {},
   "outputs": [],
   "source": [
    "test_pred, y_test, x_test, correct, incorrect = evaluateTestData(y_valid)\n"
   ]
  },
  {
   "cell_type": "code",
   "execution_count": null,
   "metadata": {},
   "outputs": [],
   "source": [
    "viewPredictedImage(correct)\n"
   ]
  },
  {
   "cell_type": "code",
   "execution_count": null,
   "metadata": {},
   "outputs": [],
   "source": [
    "viewPredictedImage(incorrect)\n"
   ]
  },
  {
   "cell_type": "code",
   "execution_count": null,
   "metadata": {},
   "outputs": [],
   "source": [
    "evaluateROC(valid_pred_roc,test_pred_roc,y_valid,y_test)"
   ]
  },
  {
   "cell_type": "code",
   "execution_count": null,
   "metadata": {},
   "outputs": [],
   "source": [
    "print('Lets fit the DenseNet169 model.....')\n",
    "K.clear_session()\n",
    "model = buildModel(DenseNet169)\n",
    "callbacks = callback_model()\n",
    "train_generator = generators.train_generator\n",
    "validation_generator = generators.valid_generator\n",
    "test_generator = generators.test_generator    \n",
    "history = model.fit_generator(generator = train_generator, \n",
    "                              steps_per_epoch = generators.step_size_train,\n",
    "                              epochs = EPOCH, verbose = VERBOSE, \n",
    "                              callbacks = callbacks,\n",
    "                              validation_data = validation_generator, \n",
    "                              validation_steps = generators.step_size_valid)\n",
    "print('Save the final weights'); print('--'*40)\n",
    "model.save(MODEL_WEIGHTS + FINAL_MODEL)"
   ]
  },
  {
   "cell_type": "code",
   "execution_count": null,
   "metadata": {},
   "outputs": [],
   "source": [
    "valid_pred, y_valid, x_valid = evaluateValidationData(model)\n"
   ]
  },
  {
   "cell_type": "code",
   "execution_count": null,
   "metadata": {},
   "outputs": [],
   "source": [
    "test_pred, y_test, x_test, correct, incorrect = evaluateTestData(y_valid)\n"
   ]
  },
  {
   "cell_type": "code",
   "execution_count": null,
   "metadata": {},
   "outputs": [],
   "source": [
    "viewPredictedImage(correct)\n"
   ]
  },
  {
   "cell_type": "code",
   "execution_count": null,
   "metadata": {},
   "outputs": [],
   "source": [
    "viewPredictedImage(incorrect)\n"
   ]
  },
  {
   "cell_type": "code",
   "execution_count": null,
   "metadata": {},
   "outputs": [],
   "source": [
    "evaluateROC(valid_pred_roc,test_pred_roc,y_valid,y_test)"
   ]
  }
 ],
 "metadata": {
  "kernelspec": {
   "display_name": "Python 3.6 (tensorflow)",
   "language": "python",
   "name": "tensorflow"
  },
  "language_info": {
   "codemirror_mode": {
    "name": "ipython",
    "version": 3
   },
   "file_extension": ".py",
   "mimetype": "text/x-python",
   "name": "python",
   "nbconvert_exporter": "python",
   "pygments_lexer": "ipython3",
   "version": "3.6.10"
  }
 },
 "nbformat": 4,
 "nbformat_minor": 4
}
